{
 "cells": [
  {
   "cell_type": "code",
   "execution_count": 5,
   "metadata": {},
   "outputs": [],
   "source": [
    "from env import env\n",
    "import pandas as pd\n",
    "import random as rd\n"
   ]
  },
  {
   "cell_type": "code",
   "execution_count": 6,
   "metadata": {},
   "outputs": [],
   "source": [
    "df = pd.read_csv('results/bike-results/result.csv')"
   ]
  },
  {
   "cell_type": "markdown",
   "metadata": {},
   "source": [
    "### Get od pair"
   ]
  },
  {
   "cell_type": "code",
   "execution_count": 7,
   "metadata": {},
   "outputs": [
    {
     "name": "stdout",
     "output_type": "stream",
     "text": [
      "41.9106,-87.6494\n",
      "41.76,-87.58\n"
     ]
    }
   ],
   "source": [
    "# try later: https://geobgu.xyz/py/shapely.html\n",
    "\n",
    "lat = df['station_lat'].to_list()\n",
    "lng = df['station_lng'].to_list()\n",
    "\n",
    "rd.seed(31)\n",
    "x = rd.sample(range(0,2191),2)\n",
    "\n",
    "originCoord = (lat[x[0]],lng[x[0]])\n",
    "origin = f'{originCoord[0]},{originCoord[1]}'\n",
    "\n",
    "destinationCoord = (lat[x[1]],lng[x[1]])\n",
    "destination = f'{destinationCoord[0]},{destinationCoord[1]}'\n",
    "\n",
    "print(origin)\n",
    "print(destination)"
   ]
  },
  {
   "cell_type": "markdown",
   "metadata": {},
   "source": [
    "### Here requests\n",
    "\n",
    "Car co2 and fuel consumption link: https://developer.here.com/documentation/routing-api/dev_guide/topics/use-cases/calculate-fuel-consumption.html"
   ]
  },
  {
   "cell_type": "code",
   "execution_count": 61,
   "metadata": {},
   "outputs": [],
   "source": [
    "from haversine import haversine, Unit\n",
    "import flexpolyline as fp\n",
    "import urllib.request\n",
    "import json, sys"
   ]
  },
  {
   "cell_type": "code",
   "execution_count": 5,
   "metadata": {},
   "outputs": [],
   "source": [
    "# to be determined\n",
    "#colors = {\n",
    "#    'pedestrian':'blue',\n",
    "#    'bus':'yellow',\n",
    "#    'bicycle':'green'\n",
    "#}\n",
    "\n",
    "# add colors to different sections of route depending on transport mode\n",
    "\n",
    "def coord_reader(response):\n",
    "    latList = []\n",
    "    lngList = []\n",
    "\n",
    "    for i in response['routes'][0]['sections']:\n",
    "        try:\n",
    "            polyline = fp.decode(i['polyline'])\n",
    "\n",
    "            for coord in polyline:\n",
    "                latList.append(coord[0])\n",
    "                lngList.append(coord[1])\n",
    "        \n",
    "        except:\n",
    "            pass\n",
    "\n",
    "        latList.append(i['arrival']['place']['location']['lat'])\n",
    "        lngList.append(i['arrival']['place']['location']['lng'])\n",
    "    \n",
    "    return latList,lngList\n",
    "\n",
    "latList,lngList = coord_reader(hereResponse)\n",
    "\n",
    "#Route midpoint\n",
    "middle = delta = hereResponse['routes'][0]['sections'][0]['summary']['length']/2\n",
    "zipList = list(zip(latList,lngList))\n",
    "before = after = None\n",
    "dist = 0\n",
    "\n",
    "for i in range(len(zipList)-1):\n",
    "    dist += haversine(zipList[i],zipList[i+1], unit=Unit.METERS)\n",
    "    sub = abs(middle-dist)\n",
    "    if sub < delta:\n",
    "        delta = sub\n",
    "        before = zipList[i+1]\n",
    "    if sub > delta:\n",
    "        after = zipList[i+1]\n",
    "        break\n",
    "\n",
    "midpointCoord = ((before[0]+after[0])/2,(before[1]+after[1])/2)\n",
    "midpoint = f'{midpointCoord[0]},{midpointCoord[1]}'\n",
    "\n",
    "print(f'route midpoint for multimodal: {midpointCoord}')"
   ]
  },
  {
   "cell_type": "code",
   "execution_count": 9,
   "metadata": {},
   "outputs": [],
   "source": [
    "# get closest bike share point on coordinate\n",
    "def closest(coord: list): #### need refactor!!\n",
    "    data = pd.read_csv('results/bike-results/result.csv')\n",
    "    dist = sys.float_info.max\n",
    "    waypoint = ()\n",
    "    for ind,row in data.iterrows():\n",
    "        distTest = haversine(coord,(row['station_lat'],row['station_lng']))\n",
    "        if distTest < dist:\n",
    "            dist = distTest\n",
    "            waypoint = (row['station_lat'],row['station_lng'])\n",
    "    return waypoint"
   ]
  },
  {
   "cell_type": "code",
   "execution_count": 42,
   "metadata": {},
   "outputs": [],
   "source": [
    "def car_routing(strCoord,maxAlternatives=0):\n",
    "    query = f'destination={strCoord[1]}&origin={strCoord[0]}'\n",
    "    hereKey = env('HERE_API_KEY')\n",
    "    \n",
    "    fuelConsumption = '&fuel[type]=diesel&fuel[freeflowspeedtable]=0,0,60,0.1,80,0.12&fuel[trafficspeedtable]=0,0,60,0.1,80,0.12&fuel[additionalconsumption]=1.8&fuel[ascent]=0.1'\n",
    "\n",
    "    url = 'https://router.hereapi.com/v8/routes?transportMode=%s%s&%s&alternatives=%d&return=summary,polyline&apikey=%s' % ('car',fuelConsumption,query,maxAlternatives,hereKey)\n",
    "    response = urllib.request.urlopen(url).read().decode('utf-8')\n",
    "    return json.loads(response)"
   ]
  },
  {
   "cell_type": "code",
   "execution_count": 43,
   "metadata": {},
   "outputs": [
    {
     "name": "stdout",
     "output_type": "stream",
     "text": [
      "{'routes': [{'id': '358a01bc-f967-47ce-aef4-f24122415d70', 'sections': [{'id': '4ccbaddb-7549-4f3c-851d-c9baa100e349', 'type': 'vehicle', 'departure': {'time': '2023-09-25T09:58:44-05:00', 'place': {'type': 'place', 'location': {'lat': 41.91057, 'lng': -87.64949, 'elv': 149.0}, 'originalLocation': {'lat': 41.9106, 'lng': -87.6494}}}, 'arrival': {'time': '2023-09-25T10:27:20-05:00', 'place': {'type': 'place', 'location': {'lat': 41.7600018, 'lng': -87.5798541, 'elv': 147.0}, 'originalLocation': {'lat': 41.76, 'lng': -87.5800001}}}, 'summary': {'duration': 1716, 'length': 21430, 'consumption': 5.1527, 'baseDuration': 1384, 'co2Emission': 13.897}, 'polyline': 'BG0yg-vCjt2lnFrJUjDArJUvWAAkuCwHA0ZnBkhBnBU4cAwMAsOUoQAgeAoGU8LUofU4wBAkrBAsOoBssBoB8a8B0ZvCsEAsJUsJUsYA8LAsJAwRUkNAoGA4cAwCAkmBoB4mBoBwlBUoaAgKU8VA4IAgUUoQA0PT4IUkXA4cA8fA0ZAsEU0ZUsJAsEAoLwCoGAwHAwMUkS0eA0oBTokBnB0FsJsJgPwCoQ4D0U8BsJUoGoB0PTsTToLnBwHnBoGnB0F7B8GvC4I3DoLjDkIzFkNjIwRjI8QrJ0UjDwH3D4IvCoGjD4IvCkI7BkInBkIT0FTwHTwMAwMUgKoBkNoBoLoB0KoB4IAsJA8GnBoGjD0FrEsEjI4D_JwCrO4DjXoGzZoLjNA_doBzPUnfoBnfgF_dgFzPgF_dsJzoBoL7LwC3coGnkBgK_J8BvHoBnGoB7QkD7a0F_dwH3DoBzoB8LzF8B3DoBrEoB7L4D_OsEnQkIvHsEzPsOnL8LvHsJvH0K3NsYzK4XzFoQjDsJvCgP7BgK7B8aA8QTkX7BgZvC4N3DoLrE4IjD0FnG0FnLkInVgPriBkX_OsJjwBof3_BgtBjmB0ZzK8GvHgF_dsTvMkIvMkI3NsJzKwH7LwHrTkNrYoQjNsJzjB0ZnQ8LzP0KrJ0FnL0FzFwCjIwCrJ8BjIoBzKU7fA_OA3hBUjSA7QAvCAvRA3rBUnzBoB7VU7QA_OTjDAjDTjIAzFAnGArJA7uBoBrY4DnVwCnkBU7LT_T_EvM3DrEvC3DvC7GnGjIjI3DjDzFzFjI_JnGrJrE7GnG7LvHzPrE3IrOjhBzPnavM7QrO3N3InGjNjI_JrE_J3DvRjDrJT3ITvWoBzeoBngDkDrdoBzwC4D3NUnQUnzBA74BoB7VUzKU_TUnkBoBrJA_EAv5BUjXUrTUzZU_iBUriBU7a7BrJnBjIjDvR3IjS3NnVnV3XjXzUrTjNjNvHzF3NzKvH_EjI_EjIrEvHjD_JjD3I7BvHnBrJTrJArJoBzK8BzPkD7Q4D_OkDzP4D7fsJze8GvlB4IjNsE3IwC3NsE3DoBrJ4D3hBwM3N0FvvBgUzFwCjc8L3hBsO_dsOvH4D_qCgjB_xB4XzUsJvHkDze8LrnB8QvMgF7a0K3N0FnpB8Q74BgZnQ8G_OoG3hBgPrJsEzKgFrnBwRjkCkc74BsYjDoBvRwH7QwH7LsErxBgUv5B4X3c0KnagKniC4XvvBwR3IsE_gC8argCwbnpBwR36BgZz3BkXnpB4S7kBsOrY8GzjB8G_OoBnV8BnLUvvBkD7GU3c8B7VkDjXgFvWoGvW4I7VgK7VoL7fgU7kBwb3DkD7LsJjS4NjrBkhBzUoQzegZ_T4S3SsTvbwgB7asiBzZwgBvR8V7G4IrJoL7Q0UjS4SjcgZnQkN_O4Ivb4Nvb4N3hBoQz3BgZrO8GjS4IzjB8QjI4D7VoL7VoLzUkNjNsJvRkNzFsEvMsJ79BwvBvlBkc31BopB7pB8f3N0KzFsE3XkSnuB0jB3SgPjS0P3S8QjS4SzZsdnQoVzPwWnQwW7QwWjI4IzK8LvlB4mBrT8Q_ToQze8VzZsT3rBsiB_T8Q_doa_TsTjrBgoBv0BsxBnkBwgBvCwCrT0U_YgjBnf0yBnQgZ_O8VnQ4XrJoLjI4I_J4I3IkInQsJ_EkD3SoL7L8GnGwC7Q8GjNwCvMwCvCArYkDvbUvvBTztB8BvMUnV8BjNwCzK8B_JkD_J4DjDoB7VsJvWkNzKwHjI0F7LoL3NwMzP8QnQoQjNwMzFsEjIgFvR4I7Q0FjN8BjIoBrEA3NTjN7BjI7BvCT_JrE_JrEjI_EjInG7BnBjIzF_JnGvR7L7Q3I3IjDrOzFjI7BzKvC3I7BjNU7LUnLT_O8BnQ4DjIkDvMoGjNwHnGsEjNsJ7asT3NkN_J4I3NoQ_E0FzKwMrJ4IjI8GnLwHzK0F7Q0F7GoB3IwCzFUzKA7GUjcsE3ckDjhBsE_O4D_O4D3IkDnQsE3cgK3c8LnfsOna4NvbgPrYkNzekS_OgK3SkNnL4IvH0FrO0KrJ8GnL8GnLgFrJ4DrJwC3SUnQjDnQzFrO7GvMjIjInGjIzFrJ7GvR7L3I_EvHjD3SzFzF7B_ET3DoBnLsEjSUzKkDvR0Fna8LvMoGrJgFjSoGzPwC_JnB7LnBjNvCnGvCnG3DvCvCjDvC_JzKnG7G3NzPrJzK7B7BnL_JnGrE3D7B3D7B7G7BvHTrJTvMU_TA3NUzyBoBjSU_OUvtC8B7VUzPAnxC8B7QU3SU3rBoBzKUrJA_YU_EAvHAjXA3DAjNAnGA_EA7foBjNUvCArJUrEAjNU_OAjXU7BAjcUvbU7LArOU7BA_OU3NUnaUrYUzFAnGAjIAnQU74BoBvHArTUAnQTnfTnQA3NAvlBAvRTvRT7VAjIAnLT3mBoG7BofAskBb', 'transport': {'mode': 'car'}, 'consumptionType': 'diesel'}]}]}\n"
     ]
    }
   ],
   "source": [
    "response = car_routing((origin,destination))\n",
    "print(response)"
   ]
  },
  {
   "cell_type": "code",
   "execution_count": 60,
   "metadata": {},
   "outputs": [],
   "source": [
    "def transit_routing(strCoord,maxAlternatives=0):\n",
    "    query = f'destination={strCoord[1]}&origin={strCoord[0]}'\n",
    "    hereKey = env('HERE_API_KEY')\n",
    "\n",
    "    # change fuel consumption for transport if possible\n",
    "    #fuelConsumption = '&fuel[type]=diesel&fuel[freeflowspeedtable]=0,0,60,0.1,80,0.12&fuel[trafficspeedtable]=0,0,60,0.1,80,0.12&fuel[additionalconsumption]=1.8&fuel[ascent]=0.1'\n",
    "\n",
    "    # multimodal here url\n",
    "    # transposrt types:\n",
    "    # vehicle\n",
    "    # transit\n",
    "    # taxi\n",
    "    # rented\n",
    "    \n",
    "    url = 'https://intermodal.router.hereapi.com/v8/routes?%s&transit[enable]=entireRoute&rented[enable]=&taxi[enable]=&vehicle[enable]=&alternatives=%d&apiKey=%s' % (query,maxAlternatives,hereKey)\n",
    "    response = urllib.request.urlopen(url).read().decode('utf-8')\n",
    "    return json.loads(response)\n"
   ]
  },
  {
   "cell_type": "code",
   "execution_count": 59,
   "metadata": {},
   "outputs": [
    {
     "name": "stdout",
     "output_type": "stream",
     "text": [
      "destination=41.76,-87.58&origin=41.9106,-87.6494\n",
      "https://intermodal.router.hereapi.com/v8/routes?destination=41.76,-87.58&origin=41.9106,-87.6494&transit[enable]=entireRoute&rented[enable]=&taxi[enable]=&vehicle[enable]=&alternatives=0&apiKey=RhbiMBCRVNDFplxIdn-yII6eZU9upCqvuChA2n7aSXo\n",
      "{'routes': [{'id': 'R0', 'sections': [{'id': 'R0-S0', 'type': 'pedestrian', 'departure': {'time': '2023-09-25T10:26:00-05:00', 'place': {'type': 'place', 'location': {'lat': 41.9106, 'lng': -87.6494}}}, 'arrival': {'time': '2023-09-25T10:27:00-05:00', 'place': {'name': 'North/Clybourn', 'type': 'accessPoint', 'location': {'lat': 41.91073, 'lng': -87.64925}}}, 'transport': {'mode': 'pedestrian'}}, {'id': 'R0-S1', 'type': 'pedestrian', 'departure': {'time': '2023-09-25T10:27:00-05:00', 'place': {'name': 'North/Clybourn', 'type': 'accessPoint', 'location': {'lat': 41.91073, 'lng': -87.64925}}}, 'arrival': {'time': '2023-09-25T10:28:00-05:00', 'place': {'name': 'North/Clybourn', 'type': 'station', 'location': {'lat': 41.910655, 'lng': -87.649177}, 'id': '418811321'}}, 'spans': [{'walkAttributes': ['indoor']}], 'transport': {'mode': 'pedestrian'}}, {'id': 'R0-S2', 'type': 'transit', 'departure': {'time': '2023-09-25T10:28:00-05:00', 'place': {'name': 'North/Clybourn', 'type': 'station', 'location': {'lat': 41.910655, 'lng': -87.649177}, 'id': '418811321'}}, 'arrival': {'time': '2023-09-25T10:39:00-05:00', 'place': {'name': 'Monroe-Red', 'type': 'station', 'location': {'lat': 41.880745, 'lng': -87.627696}, 'id': '418811407'}}, 'transport': {'mode': 'subway', 'name': 'Red Line', 'category': 'Subway, Metro', 'color': '#C60C30', 'textColor': '#FFFFFF', 'headsign': '95th/Dan Ryan', 'longName': 'Red Line'}, 'agency': {'id': '4872_e3b0c44', 'name': 'Chicago Transit Authority', 'website': 'http://transitchicago.com'}}, {'id': 'R0-S3', 'type': 'pedestrian', 'departure': {'time': '2023-09-25T10:39:00-05:00', 'place': {'name': 'Monroe-Red', 'type': 'station', 'location': {'lat': 41.880745, 'lng': -87.627696}, 'id': '418811407'}}, 'arrival': {'time': '2023-09-25T10:46:00-05:00', 'place': {'name': 'Michigan & Monroe', 'type': 'station', 'location': {'lat': 41.880625, 'lng': -87.624516}, 'wheelchairAccessible': 'yes', 'id': '418812909', 'code': '18396'}}, 'transport': {'mode': 'pedestrian'}}, {'id': 'R0-S4', 'type': 'transit', 'departure': {'time': '2023-09-25T10:46:00-05:00', 'place': {'name': 'Michigan & Monroe', 'type': 'station', 'location': {'lat': 41.880625, 'lng': -87.624516}, 'wheelchairAccessible': 'yes', 'id': '418812909', 'code': '18396'}}, 'arrival': {'time': '2023-09-25T11:09:00-05:00', 'place': {'name': 'Jeffery & 75th Street', 'type': 'station', 'location': {'lat': 41.758627, 'lng': -87.576222}, 'wheelchairAccessible': 'yes', 'id': '418803705', 'code': '5217'}}, 'transport': {'mode': 'bus', 'name': 'J14', 'category': 'Bus', 'color': '#0065bd', 'textColor': '#ffffff', 'headsign': '103rd/Stony Island', 'shortName': 'J14', 'longName': 'Jeffery Jump'}, 'agency': {'id': '4872_e3b0c44', 'name': 'Chicago Transit Authority', 'website': 'http://transitchicago.com'}}, {'id': 'R0-S5', 'type': 'pedestrian', 'departure': {'time': '2023-09-25T11:09:00-05:00', 'place': {'name': 'Jeffery & 75th Street', 'type': 'station', 'location': {'lat': 41.758627, 'lng': -87.576222}, 'wheelchairAccessible': 'yes', 'id': '418803705', 'code': '5217'}}, 'arrival': {'time': '2023-09-25T11:17:00-05:00', 'place': {'type': 'place', 'location': {'lat': 41.76, 'lng': -87.58}}}, 'transport': {'mode': 'pedestrian'}}]}]}\n"
     ]
    }
   ],
   "source": [
    "response = transit_routing((origin,destination))\n",
    "print(response)"
   ]
  },
  {
   "cell_type": "code",
   "execution_count": 39,
   "metadata": {},
   "outputs": [],
   "source": [
    "# for pedestrian: https://developer.here.com/documentation/routing-api/dev_guide/topics/pedestrian-defined.html\n",
    "\n",
    "def bicycle_routing(strCoord,floatCoord,data,maxAlternatives=0):\n",
    "    hereKey = env('HERE_API_KEY')\n",
    "\n",
    "    newOrigin = closest(floatCoord[0])\n",
    "    newDestination = closest(floatCoord[1])\n",
    "\n",
    "    mode = ['pedestrian','bicycle','pedestrian']\n",
    "\n",
    "    query = [\n",
    "        f'destination={newOrigin[0]},{newOrigin[1]}&origin={strCoord[0]}',\n",
    "        f'destination={newDestination[0]},{newDestination[1]}&origin={newOrigin[0]},{newOrigin[1]}',\n",
    "        f'destination={strCoord[1]}&origin={newDestination[0]},{newDestination[1]}'\n",
    "    ]\n",
    "\n",
    "    responses = []\n",
    "\n",
    "    for i in range(len(mode)):\n",
    "        url = 'https://router.hereapi.com/v8/routes?transportMode=%s&%s&alternatives=%d&return=summary,polyline&apikey=%s' % (mode[i],query[i],maxAlternatives,hereKey)\n",
    "        print(url)\n",
    "        response = urllib.request.urlopen(url).read().decode('utf-8')\n",
    "        responses.append(json.loads(response))\n",
    "\n",
    "    return responses"
   ]
  },
  {
   "cell_type": "code",
   "execution_count": 40,
   "metadata": {},
   "outputs": [
    {
     "name": "stdout",
     "output_type": "stream",
     "text": [
      "https://router.hereapi.com/v8/routes?transportMode=pedestrian&destination=41.9106,-87.6494&origin=41.9106,-87.6494&alternatives=0&return=summary,polyline&apikey=RhbiMBCRVNDFplxIdn-yII6eZU9upCqvuChA2n7aSXo\n",
      "https://router.hereapi.com/v8/routes?transportMode=bicycle&destination=41.76,-87.58&origin=41.9106,-87.6494&alternatives=0&return=summary,polyline&apikey=RhbiMBCRVNDFplxIdn-yII6eZU9upCqvuChA2n7aSXo\n",
      "https://router.hereapi.com/v8/routes?transportMode=pedestrian&destination=41.76,-87.58&origin=41.76,-87.58&alternatives=0&return=summary,polyline&apikey=RhbiMBCRVNDFplxIdn-yII6eZU9upCqvuChA2n7aSXo\n",
      "{'routes': [{'id': '6d2231e9-5427-4e94-bc68-3ad37f8e95d2', 'sections': [{'id': '68e58dc2-1159-4ef6-b710-c6111a89178d', 'type': 'pedestrian', 'departure': {'time': '2023-09-25T09:57:55-05:00', 'place': {'type': 'place', 'location': {'lat': 41.91057, 'lng': -87.64949}, 'originalLocation': {'lat': 41.9106, 'lng': -87.6494}}}, 'arrival': {'time': '2023-09-25T09:57:55-05:00', 'place': {'type': 'place', 'location': {'lat': 41.91057, 'lng': -87.64949}, 'originalLocation': {'lat': 41.9106, 'lng': -87.6494}}}, 'summary': {'duration': 0, 'length': 0, 'baseDuration': 0}, 'polyline': 'BG0yg-vCjt2lnFAA', 'transport': {'mode': 'pedestrian'}}]}]}\n",
      "{'routes': [{'id': '78a201b9-c46e-43bf-8015-d4fbfe5b8828', 'sections': [{'id': '604d525c-d6f6-4243-9d24-ff2ef9d9218f', 'type': 'vehicle', 'departure': {'time': '2023-09-25T09:57:55-05:00', 'place': {'type': 'place', 'location': {'lat': 41.91057, 'lng': -87.64949}, 'originalLocation': {'lat': 41.9106, 'lng': -87.6494}}}, 'arrival': {'time': '2023-09-25T11:19:47-05:00', 'place': {'type': 'place', 'location': {'lat': 41.7600018, 'lng': -87.5798541}, 'originalLocation': {'lat': 41.76, 'lng': -87.5800001}}}, 'summary': {'duration': 4912, 'length': 20065, 'baseDuration': 4912}, 'polyline': 'BG0yg-vCjt2lnFrJUjDArJUoB0KoQwW7GsJ_JsOzPoVjSsY7LoQnQoV_OoV3DgF_JgPrEgFjDgFjDsEnG4IjDsEzZwlBnL0P3I8LzK0P3I8LjDsEnLoQzFwHrEoGvH0K3DgF7GgKjS4X_O8VvbsnB_JsOvC4D7V0erJwM7BwCrJ4NjS0ZrOoVvqB46BAkIU4NAwHU8QU4NAoGU8QUkI8B8fAwHA8GUgKAgFUoVAgFUwMU8aoBo7CUwgBUwlBUoajNA3NU_JUrJA_OAjcUvMAvHAnQUnBA7LArOU3DA3IAjNArOUjDA_JU_JUzFA_JAjIA3coBrOUrEA3DAjSUnuBoBjNUrEAz3BoBjXUjSoB7LUjIA3IUnQUrOUzKA7BAjXUzZUrJA7BArOU3SUrJAnVUzZUvMA7LAzZAnBAjXUjmBUvMAnaoBnGUvRUjcUvWAnpB8BrOUvRU_JU3DA3rBArEA_EA7GA7LU3IArJzFnGT3NArOArEA7GU_EA3coBzPU_JAjNsE7aUjNAvRT3SAnVoBnVoBvlBoBzoBUjNAvbU7QUvWArY8B_OTzPUrYU7LAnQUnLAAgFUsdUwgBAgeoBw-BAofU4hBUwRU4wBUsdAoQoB03BoBw0BU0yBAkNA8GU8LAgPA0KUgKU8VAoLA4SU0PUg8BU8fjcwCjS8BvR8BvMoBrEAzFUnQU3IUzUoB7GAvMUvHU_JT3NA_EAnVArTUzKA3NA3mBTvbTrgCoB7QU7xCoBnLA3rBoB3DA_iBU_EArOUvMAvMU_YwCnVkDzFUjITzPoB_JwCjSsEvHwC_OgF3XkIvb4I_E8BvH8B3DoBnGwCrE8B7GkD7LgF_JkD_Y4I7a4InL4DjIkD3IoGjS8LjNsE3IwC3NsE3DoBrJ4D3hBwM3N0FvvBgUzFwCjc8L3hBsO_dsOvH4D_qCgjB_xB4XzUsJvHkDze8LrnB8QvMgF7a0K3N0FnpB8Q74BgZnQ8G_OoG3hBgPrJsEzKgFrnBwRjkCkc74BsYjDoBvRwH7QwH7LsErxBgUv5B4X3c0KnagKniC4XvvBwR3IsE_gC8argCwbnpBwR36BgZz3BkXnpB4S7kBsOrY8GzjB8G_OoBnV8BnLUvvBkD7GU3c8B7VkDjXgFvWoGvW4I7VgK7VoL7fgU7kBwb3DkD7LsJjS4NjrBkhBzUoQzegZ_T4S3SsTvbwgB7asiBzZwgBvR8V7G4IrJoL7Q0UjS4SjcgZnQkN_O4Ivb4Nvb4N3hBoQz3BgZrO8GjS4IzjB8QjI4D7VoL7VoLzUkNjNsJvRkNzFsEvMsJ79BwvBvlBkc31BopB7pB8f3N0KzFsE3XkSnuB0jB3SgPjS0P3S8QjS4SzZsdnQoVzPwWnQwW7QwWjI4IzK8LvlB4mBrT8Q_ToQze8VzZsT3rBsiB_T8Q_doa_TsTjrBgoBv0BsxBnkBwgBvCwCrT0U_YgjBnf0yBnQgZ_O8VnQ4XrJoLjI4I_J4I3IkInQsJ_EkD3SoL7L8GnGwC7Q8GjNwCvMwCvCArYkDvbUvvBTztB8BvMUnV8BjNwCzK8B_JkD_J4DjDoB7VsJvWkNzKwHjI0F7LoL3NwMzP8QnQoQjNwMzFsEjIgFvR4I7Q0FjN8BjIoBrEA3NTjN7BjI7BvCT_JrE_JrEjI_EjInG7BnBjIzF_JnGvR7L7Q3I3IjDrOzFjI7BzKvC3I7BjNU7LUnLT_O8BnQ4DjIkDvMoGjNwHnGsEjNsJ7asT3NkN_J4I3NoQ_E0FzKwMrJ4IjI8GnLwHzK0F7Q0F7GoB3IwCzFUzKA7GUjcsE3ckDjhBsE_O4D_O4D3IkDnQsE3cgK3c8LnfsOna4NvbgPrYkNzekS_OgK3SkNnL4IvH0FrO0KrJ8GnL8GnLgFrJ4DrJwC3SUnQjDnQzFrO7GvMjIjInGjIzFrJ7GvR7L3I_EvHjD3SzFzF7B_ET3DoBnLsEjSUzKkDvR0Fna8LvMoGrJgFjSoGzPwC_JnB7LnBjNvCnGvCnG3DvCvCjDvC_JzKnG7G3NzPrJzK7B7BnL_JnGrE3D7B3D7B7G7BvHTrJTvMU_TA3NUzyBoBjSU_OUvtC8B7VUzPAnxC8B7QU3SU3rBoBzKUrJA_YU_EAvHAjXA3DAjNAnGA_EA7foBjNUvCArJUrEAjNU_OAjXU7BAjcUvbU7LArOU7BA_OU3NUnaUrYUzFAT7pBTzFArTUjNTvMA_JA7LA7GArTAvMTvbAzKT_nBjpBgB', 'transport': {'mode': 'bicycle'}}]}]}\n",
      "{'routes': [{'id': 'd81db43c-9dc5-490c-a802-8c28afc56e8e', 'sections': [{'id': 'b5cbd2b8-774b-453c-b254-2d290c755e0f', 'type': 'pedestrian', 'departure': {'time': '2023-09-25T09:57:56-05:00', 'place': {'type': 'place', 'location': {'lat': 41.7600018, 'lng': -87.5798541}, 'originalLocation': {'lat': 41.76, 'lng': -87.5800001}}}, 'arrival': {'time': '2023-09-25T09:57:56-05:00', 'place': {'type': 'place', 'location': {'lat': 41.7600018, 'lng': -87.5798541}, 'originalLocation': {'lat': 41.76, 'lng': -87.5800001}}}, 'summary': {'duration': 0, 'length': 0, 'baseDuration': 0}, 'polyline': 'BGkw60vC7suhnFAA', 'transport': {'mode': 'pedestrian'}}]}]}\n"
     ]
    }
   ],
   "source": [
    "response = bicycle_routing((origin,destination),(originCoord,destinationCoord),df)\n",
    "for i in response:print(i)"
   ]
  },
  {
   "cell_type": "code",
   "execution_count": null,
   "metadata": {},
   "outputs": [],
   "source": [
    "#def multimodal_routing(strCoord,floatCoord,data,maxAlternatives=0):"
   ]
  },
  {
   "cell_type": "markdown",
   "metadata": {},
   "source": [
    "#### TomTom routing test with car:"
   ]
  },
  {
   "cell_type": "code",
   "execution_count": null,
   "metadata": {},
   "outputs": [],
   "source": [
    "#query = f'{origin}:{destination}'\n",
    "#tomtomkey = env('TOM_TOM_KEY')\n",
    "\n",
    "#url='https://api.tomtom.com/routing/1/calculateRoute/%s/json?&key=%s&sectionType=traffic&instructionsType=coded&maxAlternatives=%d&traffic=true&travelMode=car' % (query, tomtomkey, maxAlternatives)"
   ]
  },
  {
   "cell_type": "markdown",
   "metadata": {},
   "source": [
    "### Route map print"
   ]
  },
  {
   "cell_type": "code",
   "execution_count": null,
   "metadata": {},
   "outputs": [],
   "source": [
    "from bs4 import BeautifulSoup as bs\n",
    "import gmplot"
   ]
  },
  {
   "cell_type": "code",
   "execution_count": 11,
   "metadata": {},
   "outputs": [],
   "source": [
    "def map_print(fileName,originCoord,latList,lngList,midpointCoord,pointMarker=False):\n",
    "\n",
    "    outputMap = gmplot.GoogleMapPlotter(originCoord[0],originCoord[1], 12)\n",
    "\n",
    "    outputMap.plot(latList, lngList, edge_width=3)\n",
    "    mapUrl = f'results/map_plot/{fileName}.html'\n",
    "\n",
    "    if pointMarker:\n",
    "        outputMap.marker(midpointCoord[0],midpointCoord[1],color='green')\n",
    "\n",
    "    outputMap.draw(mapUrl)\n",
    "\n",
    "    # adding the api key into html file\n",
    "    page = open(mapUrl)\n",
    "    soup = bs(page.read(),\"html.parser\")\n",
    "    srcKey  = f\"https://maps.googleapis.com/maps/api/js?key={env('GOOGLE_MAPS_KEY')}&libraries=visualization&sensor=true_or_false\"\n",
    "    line = soup.find('script',type=\"text/javascript\")\n",
    "    line['src'] = srcKey\n",
    "\n",
    "    with open(mapUrl, \"wb\") as f_output:\n",
    "        f_output.write(soup.prettify(\"utf-8\"))  "
   ]
  },
  {
   "cell_type": "code",
   "execution_count": 14,
   "metadata": {},
   "outputs": [],
   "source": [
    "map_print('Here_map',originCoord,latList,lngList,midpointCoord)"
   ]
  }
 ],
 "metadata": {
  "kernelspec": {
   "display_name": "Python 3",
   "language": "python",
   "name": "python3"
  },
  "language_info": {
   "codemirror_mode": {
    "name": "ipython",
    "version": 3
   },
   "file_extension": ".py",
   "mimetype": "text/x-python",
   "name": "python",
   "nbconvert_exporter": "python",
   "pygments_lexer": "ipython3",
   "version": "3.11.3"
  },
  "orig_nbformat": 4
 },
 "nbformat": 4,
 "nbformat_minor": 2
}
