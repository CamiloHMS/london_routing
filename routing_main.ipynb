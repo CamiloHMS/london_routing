{
 "cells": [
  {
   "cell_type": "code",
   "execution_count": 79,
   "metadata": {},
   "outputs": [],
   "source": [
    "# od pair\n",
    "from env import env\n",
    "import pandas as pd\n",
    "import random as rd\n",
    "\n",
    "# here requests\n",
    "from haversine import haversine, Unit\n",
    "import flexpolyline as fp\n",
    "import urllib.request\n",
    "import json, sys\n",
    "\n",
    "# map plot\n",
    "from bs4 import BeautifulSoup as bs\n",
    "import gmplot"
   ]
  },
  {
   "cell_type": "code",
   "execution_count": 3,
   "metadata": {},
   "outputs": [],
   "source": [
    "df = pd.read_csv('results/bike-results/result.csv')"
   ]
  },
  {
   "cell_type": "markdown",
   "metadata": {},
   "source": [
    "### Get od pair"
   ]
  },
  {
   "cell_type": "code",
   "execution_count": 4,
   "metadata": {},
   "outputs": [
    {
     "name": "stdout",
     "output_type": "stream",
     "text": [
      "41.9106,-87.6494\n",
      "41.76,-87.58\n"
     ]
    }
   ],
   "source": [
    "# try later: https://geobgu.xyz/py/shapely.html\n",
    "\n",
    "lat = df['station_lat'].to_list()\n",
    "lng = df['station_lng'].to_list()\n",
    "\n",
    "rd.seed(31)\n",
    "x = rd.sample(range(0,2191),2)\n",
    "\n",
    "originCoord = (lat[x[0]],lng[x[0]])\n",
    "origin = f'{originCoord[0]},{originCoord[1]}'\n",
    "\n",
    "destinationCoord = (lat[x[1]],lng[x[1]])\n",
    "destination = f'{destinationCoord[0]},{destinationCoord[1]}'\n",
    "\n",
    "print(origin)\n",
    "print(destination)"
   ]
  },
  {
   "cell_type": "markdown",
   "metadata": {},
   "source": [
    "### Here requests\n",
    "\n",
    "Car co2 and fuel consumption link: https://developer.here.com/documentation/routing-api/dev_guide/topics/use-cases/calculate-fuel-consumption.html"
   ]
  },
  {
   "cell_type": "code",
   "execution_count": null,
   "metadata": {},
   "outputs": [],
   "source": [
    "def route_midpoint(route_length,latList,lngList):\n",
    "    middle = delta = route_length/2 # route length was hereResponse['routes'][0]['sections'][0]['summary']['length']/2\n",
    "    zipList = list(zip(latList,lngList))\n",
    "    before = after = None\n",
    "    dist = 0\n",
    "\n",
    "    for i in range(len(zipList)-1):\n",
    "        dist += haversine(zipList[i],zipList[i+1], unit=Unit.METERS)\n",
    "        sub = abs(middle-dist)\n",
    "        if sub < delta:\n",
    "            delta = sub\n",
    "            before = zipList[i+1]\n",
    "        if sub > delta:\n",
    "            after = zipList[i+1]\n",
    "            break\n",
    "\n",
    "    midpointCoord = ((before[0]+after[0])/2,(before[1]+after[1])/2)\n",
    "    midpoint = f'{midpointCoord[0]},{midpointCoord[1]}'\n",
    "\n",
    "    return midpoint,midpointCoord\n",
    "\n",
    "# get closest bike share point on coordinate\n",
    "def closest(coord: list): #### need refactor!!\n",
    "    data = pd.read_csv('results/bike-results/result.csv')\n",
    "    dist = sys.float_info.max\n",
    "    waypoint = ()\n",
    "    for ind,row in data.iterrows():\n",
    "        distTest = haversine(coord,(row['station_lat'],row['station_lng']))\n",
    "        if distTest < dist:\n",
    "            dist = distTest\n",
    "            waypoint = (row['station_lat'],row['station_lng'])\n",
    "    return waypoint"
   ]
  },
  {
   "cell_type": "code",
   "execution_count": 42,
   "metadata": {},
   "outputs": [],
   "source": [
    "def car_routing(strCoord,maxAlternatives=0):\n",
    "    query = f'destination={strCoord[1]}&origin={strCoord[0]}'\n",
    "    hereKey = env('HERE_API_KEY')\n",
    "    \n",
    "    fuelConsumption = '&fuel[type]=diesel&fuel[freeflowspeedtable]=0,0,60,0.1,80,0.12&fuel[trafficspeedtable]=0,0,60,0.1,80,0.12&fuel[additionalconsumption]=1.8&fuel[ascent]=0.1'\n",
    "\n",
    "    url = 'https://router.hereapi.com/v8/routes?transportMode=%s%s&%s&alternatives=%d&return=summary,polyline&apikey=%s' % ('car',fuelConsumption,query,maxAlternatives,hereKey)\n",
    "    response = urllib.request.urlopen(url).read().decode('utf-8')\n",
    "    return json.loads(response)\n",
    "\n",
    "\n",
    "def transit_routing(strCoord,maxAlternatives=0):\n",
    "    query = f'destination={strCoord[1]}&origin={strCoord[0]}'\n",
    "    hereKey = env('HERE_API_KEY')\n",
    "\n",
    "    # change fuel consumption for transport if possible\n",
    "    #fuelConsumption = '&fuel[type]=diesel&fuel[freeflowspeedtable]=0,0,60,0.1,80,0.12&fuel[trafficspeedtable]=0,0,60,0.1,80,0.12&fuel[additionalconsumption]=1.8&fuel[ascent]=0.1'\n",
    "\n",
    "    # multimodal here url\n",
    "    # transposrt types:\n",
    "    # vehicle\n",
    "    # transit\n",
    "    # taxi\n",
    "    # rented\n",
    "    \n",
    "    url = 'https://intermodal.router.hereapi.com/v8/routes?%s&transit[enable]=entireRoute&rented[enable]=&taxi[enable]=&vehicle[enable]=&alternatives=%d&apiKey=%s' % (query,maxAlternatives,hereKey)\n",
    "    response = urllib.request.urlopen(url).read().decode('utf-8')\n",
    "    return json.loads(response)\n",
    "\n",
    "\n",
    "# for pedestrian: https://developer.here.com/documentation/routing-api/dev_guide/topics/pedestrian-defined.html\n",
    "def bicycle_routing(strCoord,floatCoord,data,maxAlternatives=1):\n",
    "    hereKey = env('HERE_API_KEY')\n",
    "\n",
    "    newOrigin = closest(floatCoord[0]) # data\n",
    "    newDestination = closest(floatCoord[1]) # data\n",
    "\n",
    "    mode = ['pedestrian','bicycle','pedestrian']\n",
    "\n",
    "    query = [\n",
    "        f'destination={newOrigin[0]},{newOrigin[1]}&origin={strCoord[0]}',\n",
    "        f'destination={newDestination[0]},{newDestination[1]}&origin={newOrigin[0]},{newOrigin[1]}',\n",
    "        f'destination={strCoord[1]}&origin={newDestination[0]},{newDestination[1]}'\n",
    "    ]\n",
    "\n",
    "    responses = []\n",
    "\n",
    "    for i in range(len(mode)):\n",
    "        if mode[i] == 'pedestrian': altNum = 0\n",
    "        else: altNum = maxAlternatives\n",
    "        url = 'https://router.hereapi.com/v8/routes?transportMode=%s&%s&alternatives=%d&return=summary,polyline&apikey=%s' % (mode[i],query[i],altNum,hereKey)\n",
    "        print(url)\n",
    "        response = urllib.request.urlopen(url).read().decode('utf-8')\n",
    "        responses.append(json.loads(response))\n",
    "\n",
    "    return responses"
   ]
  },
  {
   "cell_type": "code",
   "execution_count": 54,
   "metadata": {},
   "outputs": [
    {
     "name": "stdout",
     "output_type": "stream",
     "text": [
      "https://router.hereapi.com/v8/routes?transportMode=pedestrian&destination=41.9106,-87.6494&origin=41.9106,-87.6494&alternatives=0&return=summary,polyline&apikey=RhbiMBCRVNDFplxIdn-yII6eZU9upCqvuChA2n7aSXo\n",
      "https://router.hereapi.com/v8/routes?transportMode=bicycle&destination=41.76,-87.58&origin=41.9106,-87.6494&alternatives=1&return=summary,polyline&apikey=RhbiMBCRVNDFplxIdn-yII6eZU9upCqvuChA2n7aSXo\n",
      "https://router.hereapi.com/v8/routes?transportMode=pedestrian&destination=41.76,-87.58&origin=41.76,-87.58&alternatives=0&return=summary,polyline&apikey=RhbiMBCRVNDFplxIdn-yII6eZU9upCqvuChA2n7aSXo\n"
     ]
    }
   ],
   "source": [
    "#bicycle routing test: ped - bic - ped\n",
    "response = bicycle_routing((origin,destination),(originCoord,destinationCoord),df)"
   ]
  },
  {
   "cell_type": "code",
   "execution_count": 59,
   "metadata": {},
   "outputs": [],
   "source": [
    "def list_struct(response): # missing add pedestrian to start / end of route\n",
    "    routes = []\n",
    "\n",
    "    for i in response:\n",
    "        aux = []\n",
    "        for j in i['sections']:\n",
    "            aux.append((j['transport']['mode'],fp.decode(j['polyline'])))\n",
    "        routes.append(aux)\n",
    "    return routes"
   ]
  },
  {
   "cell_type": "code",
   "execution_count": 68,
   "metadata": {},
   "outputs": [],
   "source": [
    "routes = list_struct(response[1]['routes']) # response[x]['routes']"
   ]
  },
  {
   "cell_type": "code",
   "execution_count": 75,
   "metadata": {},
   "outputs": [],
   "source": [
    "def map_print(originCoord,routes):\n",
    "\n",
    "    colors = {\n",
    "        'pedestrian':'blue',\n",
    "        'bicycle':'green',\n",
    "        'car': 'yellow'\n",
    "    }\n",
    "\n",
    "    fileName = 0\n",
    "\n",
    "    outputMap = gmplot.GoogleMapPlotter(originCoord[0],originCoord[1], 12)\n",
    "\n",
    "    for route in routes:\n",
    "        for i,j in route:\n",
    "            lat = [coord[0] for coord in j]\n",
    "            lng = [coord[1] for coord in j]\n",
    "            try:\n",
    "                color = colors[i]\n",
    "            except:\n",
    "                color = 'red'\n",
    "            outputMap.plot(lat, lng, color=color, edge_width=3)\n",
    "\n",
    "        mapUrl = f'results/map_plot/{fileName}.html'\n",
    "        fileName += 1\n",
    "\n",
    "        outputMap.draw(mapUrl)\n",
    "\n",
    "        # adding the api key into html file\n",
    "        page = open(mapUrl)\n",
    "        soup = bs(page.read(),\"html.parser\")\n",
    "        srcKey  = f\"https://maps.googleapis.com/maps/api/js?key={env('GOOGLE_MAPS_KEY')}&libraries=visualization&sensor=true_or_false\"\n",
    "        line = soup.find('script',type=\"text/javascript\")\n",
    "        line['src'] = srcKey\n",
    "\n",
    "        with open(mapUrl, \"wb\") as f_output:\n",
    "            f_output.write(soup.prettify(\"utf-8\"))  "
   ]
  },
  {
   "cell_type": "code",
   "execution_count": 76,
   "metadata": {},
   "outputs": [],
   "source": [
    "map_print(originCoord,routes)"
   ]
  },
  {
   "cell_type": "markdown",
   "metadata": {},
   "source": [
    "## map test"
   ]
  },
  {
   "cell_type": "code",
   "execution_count": 11,
   "metadata": {},
   "outputs": [],
   "source": [
    "colors = {\n",
    "    'pedestrian':'blue',\n",
    "    'bicycle':'green'\n",
    "}\n",
    "\n",
    "def map_print(fileName,originCoord,routes,midpointCoord,pointMarker=False):\n",
    "\n",
    "    outputMap = gmplot.GoogleMapPlotter(originCoord[0],originCoord[1], 12)\n",
    "\n",
    "    #for i in range(len(routes)):\n",
    "\n",
    "    outputMap.plot(latList, lngList, edge_width=3)\n",
    "    mapUrl = f'results/map_plot/{fileName}.html'\n",
    "\n",
    "    if pointMarker:\n",
    "        outputMap.marker(midpointCoord[0],midpointCoord[1],color='green')\n",
    "\n",
    "    outputMap.draw(mapUrl)\n",
    "\n",
    "    # adding the api key into html file\n",
    "    page = open(mapUrl)\n",
    "    soup = bs(page.read(),\"html.parser\")\n",
    "    srcKey  = f\"https://maps.googleapis.com/maps/api/js?key={env('GOOGLE_MAPS_KEY')}&libraries=visualization&sensor=true_or_false\"\n",
    "    line = soup.find('script',type=\"text/javascript\")\n",
    "    line['src'] = srcKey\n",
    "\n",
    "    with open(mapUrl, \"wb\") as f_output:\n",
    "        f_output.write(soup.prettify(\"utf-8\")) \n",
    "# map_print('Here_map',originCoord,latList,lngList,midpointCoord)"
   ]
  }
 ],
 "metadata": {
  "kernelspec": {
   "display_name": "Python 3",
   "language": "python",
   "name": "python3"
  },
  "language_info": {
   "codemirror_mode": {
    "name": "ipython",
    "version": 3
   },
   "file_extension": ".py",
   "mimetype": "text/x-python",
   "name": "python",
   "nbconvert_exporter": "python",
   "pygments_lexer": "ipython3",
   "version": "3.11.3"
  },
  "orig_nbformat": 4
 },
 "nbformat": 4,
 "nbformat_minor": 2
}
