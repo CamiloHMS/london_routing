{
 "cells": [
  {
   "cell_type": "code",
   "execution_count": 1,
   "metadata": {},
   "outputs": [],
   "source": [
    "from env import env\n",
    "import flexpolyline as fp\n",
    "import urllib.request\n",
    "import json, sys\n",
    "import pandas as pd\n",
    "from bs4 import BeautifulSoup as bs\n",
    "\n",
    "import random as rd\n"
   ]
  },
  {
   "cell_type": "code",
   "execution_count": 2,
   "metadata": {},
   "outputs": [],
   "source": [
    "df = pd.read_csv('results/bike-results/result.csv')"
   ]
  },
  {
   "cell_type": "markdown",
   "metadata": {},
   "source": [
    "### Get od pair and midpoint"
   ]
  },
  {
   "cell_type": "code",
   "execution_count": 3,
   "metadata": {},
   "outputs": [
    {
     "name": "stdout",
     "output_type": "stream",
     "text": [
      "41.9106,-87.6494\n",
      "41.76,-87.58\n",
      "(41.835300000000004, -87.6147)\n"
     ]
    }
   ],
   "source": [
    "# try later: https://geobgu.xyz/py/shapely.html\n",
    "\n",
    "lat = df['station_lat'].to_list()\n",
    "lng = df['station_lng'].to_list()\n",
    "\n",
    "rd.seed(31)\n",
    "x = rd.sample(range(0,2191),2)\n",
    "\n",
    "origin_coord = (lat[x[0]],lng[x[0]])\n",
    "origin = f'{origin_coord[0]},{origin_coord[1]}'\n",
    "\n",
    "destination_coord = (lat[x[1]],lng[x[1]])\n",
    "destination = f'{destination_coord[0]},{destination_coord[1]}'\n",
    "\n",
    "#midpoint = ((origin_coord[0]+destination_coord[0])/2,(origin_coord[1]+destination_coord[1])/2)\n",
    "\n",
    "print(origin)\n",
    "print(destination)\n",
    "#print(midpoint)"
   ]
  },
  {
   "cell_type": "markdown",
   "metadata": {},
   "source": [
    "### Make request with od pair"
   ]
  },
  {
   "cell_type": "code",
   "execution_count": 4,
   "metadata": {},
   "outputs": [
    {
     "name": "stdout",
     "output_type": "stream",
     "text": [
      "https://router.hereapi.com/v8/routes?transportMode=car&fuel[type]=diesel&fuel[freeflowspeedtable]=0,0,60,0.1,80,0.12&fuel[trafficspeedtable]=0,0,60,0.1,80,0.12&fuel[additionalconsumption]=1.8&fuel[ascent]=0.1&destination=41.76,-87.58&origin=41.9106,-87.6494&return=summary,polyline&apikey=RhbiMBCRVNDFplxIdn-yII6eZU9upCqvuChA2n7aSXo\n"
     ]
    }
   ],
   "source": [
    "\"\"\"for tomtom routing\n",
    "query = f'{origin}:{destination}'\n",
    "tomtomkey = env('TOM_TOM_KEY')\n",
    "maxAlternatives = 0\n",
    "\n",
    "url='https://api.tomtom.com/routing/1/calculateRoute/%s/json?&key=%s&sectionType=traffic&instructionsType=coded&maxAlternatives=%d&traffic=true&travelMode=car' % (query, tomtomkey, maxAlternatives)\n",
    "\n",
    "tomtomResponse = urllib.request.urlopen(url).read().decode('utf-8')\n",
    "tomtomResponse = json.loads(tomtomResponse)\n",
    "print(url)\"\"\"\n",
    "\n",
    "# co2 and fuel consumption link: https://developer.here.com/documentation/routing-api/dev_guide/topics/use-cases/calculate-fuel-consumption.html\n",
    "\n",
    "query = f'destination={destination}&origin={origin}'\n",
    "herekey = env('HERE_API_KEY')\n",
    "fuel_consumption = 'transportMode=car&fuel[type]=diesel&fuel[freeflowspeedtable]=0,0,60,0.1,80,0.12&fuel[trafficspeedtable]=0,0,60,0.1,80,0.12&fuel[additionalconsumption]=1.8&fuel[ascent]=0.1'\n",
    "\n",
    "url = 'https://router.hereapi.com/v8/routes?%s&%s&return=summary,polyline&apikey=%s' % (fuel_consumption,query,herekey)\n",
    "\n",
    "hereResponse = urllib.request.urlopen(url).read().decode('utf-8')\n",
    "hereResponse = json.loads(hereResponse)\n",
    "print(url)"
   ]
  },
  {
   "cell_type": "markdown",
   "metadata": {},
   "source": [
    "### Print route on map with route midpoint"
   ]
  },
  {
   "cell_type": "code",
   "execution_count": 27,
   "metadata": {},
   "outputs": [],
   "source": [
    "from haversine import haversine, Unit\n",
    "import gmplot\n",
    "import numpy as np\n",
    "\n",
    "originCoord = origin.split(',')\n",
    "\n",
    "output_map = gmplot.GoogleMapPlotter(originCoord[0],originCoord[1], 12)\n",
    "\n",
    "colors = {\n",
    "    'pedestrian':'blue',\n",
    "    'bus':'yellow',\n",
    "    'bicycle':'green'\n",
    "}\n",
    "\n",
    "lat_list = []\n",
    "lng_list = []\n",
    "\n",
    "first = True\n",
    "for i in hereResponse['routes'][0]['sections']:\n",
    "    \n",
    "    #if first:\n",
    "    #    lat_list.append(i['departure']['place']['location']['lat'])\n",
    "    #    lng_list.append(i['departure']['place']['location']['lng'])\n",
    "    #    \n",
    "    #first = False\n",
    "    \n",
    "    try:\n",
    "        polyline = fp.decode(i['polyline'])\n",
    "        \n",
    "        for coord in polyline:\n",
    "            lat_list.append(coord[0])\n",
    "            lng_list.append(coord[1])\n",
    "    except:\n",
    "        pass\n",
    "        \n",
    "    lat_list.append(i['arrival']['place']['location']['lat'])\n",
    "    lng_list.append(i['arrival']['place']['location']['lng'])\n",
    "\n",
    "output_map.plot(lat_list, lng_list, edge_width=3)\n",
    "\n",
    "#tentativa 2: dist da rota com a api\n",
    "middle = delta = hereResponse['routes'][0]['sections'][0]['summary']['length']/2\n",
    "zip_list = list(zip(lat_list,lng_list))\n",
    "before = after = None\n",
    "dist = 0\n",
    "\n",
    "for i in range(len(zip_list)-1):\n",
    "    dist += haversine(zip_list[i],zip_list[i+1], unit=Unit.METERS)\n",
    "    sub = abs(middle-dist)\n",
    "    if sub < delta:\n",
    "        delta = sub\n",
    "        before = zip_list[i+1]\n",
    "    if sub > delta:\n",
    "        after = zip_list[i+1]\n",
    "        break\n",
    "\n",
    "midpoint = ((before[0]+after[0])/2,(before[1]+after[1])/2)\n",
    "\n",
    "output_map.marker(before[0],before[1],color='blue')\n",
    "output_map.marker(midpoint[0],midpoint[1],color='green')\n",
    "output_map.marker(after[0],after[1],color='yellow')\n",
    "\n",
    "\n",
    "\"\"\" tentantiva 1 - ponto médio da rota com midpoint\n",
    "nearest = (0,0) # coord\n",
    "dist = haversine(origin_coord,destination_coord) # distance\n",
    "\n",
    "for la,lo in zip(lat_list,lng_list):\n",
    "    value = haversine(midpoint,(la,lo))\n",
    "    if value < dist: \n",
    "        dist = value\n",
    "        nearest = (la,lo)\n",
    "\n",
    "output_map.marker(midpoint[0],midpoint[1],color='blue')\n",
    "output_map.marker(nearest[0],nearest[1],color='green')\n",
    "\"\"\"\n",
    "\n",
    "output_url = 'results/map_plot/Here_map.html'\n",
    "output_map.draw(output_url)\n",
    "\n",
    "# add the api key into html file\n",
    "page = open(output_url)\n",
    "soup = bs(page.read(),\"html.parser\")\n",
    "src_key  = f\"https://maps.googleapis.com/maps/api/js?key={env('GOOGLE_MAPS_KEY')}&libraries=visualization&sensor=true_or_false\"\n",
    "line = soup.find('script',type=\"text/javascript\")\n",
    "line['src'] = src_key\n",
    "\n",
    "with open(output_url, \"wb\") as f_output:\n",
    "    f_output.write(soup.prettify(\"utf-8\"))  \n"
   ]
  },
  {
   "cell_type": "code",
   "execution_count": null,
   "metadata": {},
   "outputs": [],
   "source": [
    "#def max_routing(start,end):"
   ]
  }
 ],
 "metadata": {
  "kernelspec": {
   "display_name": "Python 3",
   "language": "python",
   "name": "python3"
  },
  "language_info": {
   "codemirror_mode": {
    "name": "ipython",
    "version": 3
   },
   "file_extension": ".py",
   "mimetype": "text/x-python",
   "name": "python",
   "nbconvert_exporter": "python",
   "pygments_lexer": "ipython3",
   "version": "3.11.3"
  },
  "orig_nbformat": 4
 },
 "nbformat": 4,
 "nbformat_minor": 2
}
