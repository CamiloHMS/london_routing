{
 "cells": [
  {
   "cell_type": "code",
   "execution_count": 1,
   "metadata": {},
   "outputs": [],
   "source": [
    "# od pair\n",
    "from env import env\n",
    "import pandas as pd\n",
    "import random as rd\n",
    "\n",
    "# here requests\n",
    "from haversine import haversine, Unit\n",
    "import flexpolyline as fp\n",
    "import urllib.request\n",
    "import json, sys\n",
    "\n",
    "# map plot\n",
    "from bs4 import BeautifulSoup as bs\n",
    "import gmplot"
   ]
  },
  {
   "cell_type": "markdown",
   "metadata": {},
   "source": [
    "### Get od pair"
   ]
  },
  {
   "cell_type": "code",
   "execution_count": 17,
   "metadata": {},
   "outputs": [
    {
     "name": "stdout",
     "output_type": "stream",
     "text": [
      "41.9106,-87.6494\n",
      "(41.9106, -87.6494)\n",
      "41.76,-87.58\n",
      "(41.76, -87.58)\n"
     ]
    }
   ],
   "source": [
    "# try later: https://geobgu.xyz/py/shapely.html\n",
    "\"\"\"\n",
    "df = pd.read_csv('results/bike-results/result.csv')\n",
    "\n",
    "lat = df['station_lat'].to_list()\n",
    "lng = df['station_lng'].to_list()\n",
    "\n",
    "rd.seed(31)\n",
    "x = rd.sample(range(0,2191),2)\n",
    "\n",
    "originCoord = (lat[x[0]],lng[x[0]])\n",
    "origin = f'{originCoord[0]},{originCoord[1]}'\n",
    "\n",
    "destinationCoord = (lat[x[1]],lng[x[1]])\n",
    "destination = f'{destinationCoord[0]},{destinationCoord[1]}'\n",
    "\n",
    "print(origin)\n",
    "print(originCoord)\n",
    "print(destination)\n",
    "print(destinationCoord)\n",
    "\"\"\"\n"
   ]
  },
  {
   "cell_type": "code",
   "execution_count": 12,
   "metadata": {},
   "outputs": [],
   "source": [
    "filtered = pd.read_csv('datasets/new_bike/filtered_dataset_gas.csv')\n",
    "odDf = pd.read_csv('datasets/new_bike/set_id_coord.csv')"
   ]
  },
  {
   "cell_type": "code",
   "execution_count": 3,
   "metadata": {},
   "outputs": [
    {
     "name": "stdout",
     "output_type": "stream",
     "text": [
      "51.533778,-0.2677\n",
      "51.57419,-0.46799\n",
      "[51.533778, -0.2677]\n",
      "[51.57419, -0.46799]\n"
     ]
    }
   ],
   "source": [
    "# coletar par od qualquer para teste\n",
    "\n",
    "ind = 0 # filtered route index\n",
    "od = odDf.loc[odDf['setID'] == filtered.iloc[ind]['setID']]\n",
    "\n",
    "origin = od['departure_coord'].to_string(index=False).split(\":\")\n",
    "origin = f\"{origin[1]},{origin[0]}\"\n",
    "\n",
    "destination = od['arrival_coord'].to_string(index=False).split(\":\")\n",
    "destination = f\"{destination[1]},{destination[0]}\"\n",
    "\n",
    "float_origin = list(map(lambda x: float(x),origin.split(',')))\n",
    "float_destination = list(map(lambda x: float(x),destination.split(',')))\n",
    "\n",
    "print(origin)\n",
    "print(destination)\n",
    "print(float_origin)\n",
    "print(float_destination)"
   ]
  },
  {
   "cell_type": "markdown",
   "metadata": {},
   "source": [
    "### Here requests\n",
    "\n",
    "Car co2 and fuel consumption link: https://developer.here.com/documentation/routing-api/dev_guide/topics/use-cases/calculate-fuel-consumption.html"
   ]
  },
  {
   "cell_type": "code",
   "execution_count": 25,
   "metadata": {},
   "outputs": [],
   "source": [
    "def route_midpoint(route_length,zipList):#,latList,lngList):\n",
    "    middle = delta = route_length/2 # route length was hereResponse['routes'][0]['sections'][0]['summary']['length']/2\n",
    "    #zipList = list(zip(latList,lngList))\n",
    "    before = after = None\n",
    "    dist = 0\n",
    "\n",
    "    for i in range(len(zipList)-1):\n",
    "        dist += haversine(zipList[i],zipList[i+1], unit=Unit.METERS)\n",
    "        sub = abs(middle-dist)\n",
    "        if sub < delta:\n",
    "            delta = sub\n",
    "            before = zipList[i+1]\n",
    "        if sub > delta:\n",
    "            after = zipList[i+1]\n",
    "            break\n",
    "\n",
    "    midpointCoord = ((before[0]+after[0])/2,(before[1]+after[1])/2)\n",
    "    midpoint = f'{midpointCoord[0]},{midpointCoord[1]}'\n",
    "\n",
    "    return midpoint,midpointCoord\n",
    "\n",
    "# get closest bike share point on coordinate\n",
    "def closest(coord: list): #### need refactor!!\n",
    "    data = pd.read_csv('results/bike-results/result.csv')\n",
    "    dist = sys.float_info.max\n",
    "    waypoint = ()\n",
    "    for ind,row in data.iterrows():\n",
    "        distTest = haversine(coord,(row['station_lat'],row['station_lng']))\n",
    "        if distTest < dist:\n",
    "            dist = distTest\n",
    "            waypoint = (row['station_lat'],row['station_lng'])\n",
    "    return waypoint\n",
    "\n",
    "\n",
    "def closest_list(coord: list, data: list):\n",
    "    dist = sys.float_info.max\n",
    "    waypoint = ()\n",
    "    for i in data:\n",
    "        distTest = haversine(coord,(float(i[0]),float(i[1])))\n",
    "        if distTest < dist:\n",
    "            dist = distTest\n",
    "            waypoint = (float(i[0]),float(i[1]))\n",
    "    return waypoint"
   ]
  },
  {
   "cell_type": "code",
   "execution_count": 6,
   "metadata": {},
   "outputs": [],
   "source": [
    "def car_routing(strCoord,maxAlternatives=0):\n",
    "    query = f'destination={strCoord[1]}&origin={strCoord[0]}'\n",
    "    hereKey = env('HERE_API_KEY')\n",
    "    \n",
    "    fuelConsumption = '&fuel[type]=diesel&fuel[freeflowspeedtable]=0,0,60,0.1,80,0.12&fuel[trafficspeedtable]=0,0,60,0.1,80,0.12&fuel[additionalconsumption]=1.8&fuel[ascent]=0.1'\n",
    "\n",
    "    url = 'https://router.hereapi.com/v8/routes?transportMode=%s%s&%s&alternatives=%d&return=summary,polyline&apikey=%s' % ('car',fuelConsumption,query,maxAlternatives,hereKey)\n",
    "    response = urllib.request.urlopen(url).read().decode('utf-8')\n",
    "    return [json.loads(response)]\n",
    "\n",
    "\n",
    "def transit_routing(strCoord,maxAlternatives=0):\n",
    "    query = f'destination={strCoord[1]}&origin={strCoord[0]}'\n",
    "    hereKey = env('HERE_API_KEY')\n",
    "\n",
    "    # change fuel consumption for transport if possible\n",
    "    #fuelConsumption = '&fuel[type]=diesel&fuel[freeflowspeedtable]=0,0,60,0.1,80,0.12&fuel[trafficspeedtable]=0,0,60,0.1,80,0.12&fuel[additionalconsumption]=1.8&fuel[ascent]=0.1'\n",
    "\n",
    "    # multimodal here url\n",
    "    # transposrt types:\n",
    "    # vehicle\n",
    "    # transit\n",
    "    # taxi\n",
    "    # rented\n",
    "    \n",
    "    url = 'https://intermodal.router.hereapi.com/v8/routes?%s&transit[enable]=entireRoute&rented[enable]=&taxi[enable]=&vehicle[enable]=&alternatives=%d&return=travelSummary,polyline&apiKey=%s' % (query,maxAlternatives,hereKey)\n",
    "    response = urllib.request.urlopen(url).read().decode('utf-8')\n",
    "    return [json.loads(response)]\n",
    "\n",
    "\n",
    "# for pedestrian: https://developer.here.com/documentation/routing-api/dev_guide/topics/pedestrian-defined.html\n",
    "def bicycle_routing(strCoord,floatCoord,maxAlternatives=0):\n",
    "    hereKey = env('HERE_API_KEY')\n",
    "\n",
    "    newOrigin = closest(floatCoord[0]) # data\n",
    "    newDestination = closest(floatCoord[1]) # data\n",
    "\n",
    "    mode = ['pedestrian','bicycle','pedestrian']\n",
    "\n",
    "    query = [\n",
    "        f'destination={newOrigin[0]},{newOrigin[1]}&origin={strCoord[0]}',\n",
    "        f'destination={newDestination[0]},{newDestination[1]}&origin={newOrigin[0]},{newOrigin[1]}',\n",
    "        f'destination={strCoord[1]}&origin={newDestination[0]},{newDestination[1]}'\n",
    "    ]\n",
    "\n",
    "    responses = []\n",
    "\n",
    "    for i in range(len(mode)):\n",
    "        if mode[i] == 'pedestrian': altNum = 0\n",
    "        else: altNum = maxAlternatives\n",
    "        url = 'https://router.hereapi.com/v8/routes?transportMode=%s&%s&alternatives=%d&return=summary,polyline&apikey=%s' % (mode[i],query[i],altNum,hereKey)\n",
    "        response = urllib.request.urlopen(url).read().decode('utf-8')\n",
    "        responses.append(json.loads(response))\n",
    "\n",
    "    return responses,newDestination"
   ]
  },
  {
   "cell_type": "code",
   "execution_count": 7,
   "metadata": {},
   "outputs": [],
   "source": [
    "def response_reader(response,midpoint=False): # retorna polilinha das respostas\n",
    "    polyline = []\n",
    "    distance = 0\n",
    "    duration = 0\n",
    "\n",
    "    for section in response['routes'][0]['sections']:\n",
    "        try:\n",
    "            distance += section['summary']['length']\n",
    "            duration += section['summary']['duration']\n",
    "        except:\n",
    "            distance += section['travelSummary']['length']\n",
    "            duration += section['travelSummary']['duration']\n",
    "        polyline += fp.decode(section['polyline'])\n",
    "\n",
    "    if midpoint: return duration,distance,polyline,route_midpoint(distance,polyline)\n",
    "    return duration,distance,polyline"
   ]
  },
  {
   "cell_type": "code",
   "execution_count": 17,
   "metadata": {},
   "outputs": [],
   "source": [
    "coords = (origin,destination)\n",
    "float_coords = (float_origin,float_destination)\n",
    "\n",
    "response_full_car = car_routing(coords) # full car\n",
    "response_full_transit = transit_routing(coords) # full transit\n",
    "#responses_full_bicycle,_ = bicycle_routing(coords,float_coords) # full bicycle"
   ]
  },
  {
   "cell_type": "code",
   "execution_count": 18,
   "metadata": {},
   "outputs": [],
   "source": [
    "duration_full_car,distance_full_car,polyline_full_car,car_midpoint = response_reader(*response_full_car,True)\n",
    "duration_full_transit,distance_full_transit,polyline_full_transit,transit_midpoint = response_reader(*response_full_transit,True)\n",
    "'''\n",
    "duration_full_bicycle = 0\n",
    "distance_full_bicycle = 0\n",
    "polyline_full_bicycle = []\n",
    "\n",
    "for response in responses_bicycle:\n",
    "    duration, distance, polyline = response_reader(response)\n",
    "    duration_full_bicycle += duration\n",
    "    distance_full_bicycle += distance\n",
    "    polyline_full_bicycle += polyline\n",
    "\n",
    "bicycle_midpoint = route_midpoint(distance_full_bicycle,polyline_full_bicycle)\n",
    "'''"
   ]
  },
  {
   "cell_type": "code",
   "execution_count": 19,
   "metadata": {},
   "outputs": [],
   "source": [
    "response_car = car_routing((origin,car_midpoint[0]))\n",
    "response_car_transit = transit_routing((car_midpoint[0],destination))\n",
    "#response_car_bicycle,_ = bicycle_routing((car_midpoint[0],destination))\n",
    "\n",
    "response_transit = transit_routing((origin,transit_midpoint[0]))\n",
    "response_transit_car = car_routing((transit_midpoint[0],destination))\n",
    "#responses_transit_bicycle,_ = bicycle_routing((transit_midpoint[0],destination))\n",
    "\n",
    "#responses_bicycle,new_bicycle_midpoint = bicycle_routing((origin,bicycle_midpoint[0]))\n",
    "#response_bicycle_car = car_routing((new_bicycle_midpoint,destination))\n",
    "#response_bicycle_transit = transit_routing((new_bicycle_midpoint,destination))"
   ]
  },
  {
   "cell_type": "code",
   "execution_count": 20,
   "metadata": {},
   "outputs": [
    {
     "name": "stdout",
     "output_type": "stream",
     "text": [
      "4493 19168\n",
      "4176 24403\n"
     ]
    }
   ],
   "source": [
    "duration_car,distance_car,polyline_car = response_reader(*response_car)\n",
    "duration_car_transit,distance_car_transit,polyline_car_transit = response_reader(*response_car_transit)\n",
    "#duration_car_bicycle,distance_car_bicycle,polyline_car_bicycle = response_reader(response_car_bicycle)\n",
    "\n",
    "duration_transit,distance_transit,polyline_transit = response_reader(*response_transit)\n",
    "duration_transit_car,distance_transit_car,polyline_transit_car = response_reader(*response_transit_car)\n",
    "#duration_transit_bicycle,distance_transit_bicycle,polyline_transit_bicycle = response_reader(responses_transit_bicycle)\n",
    "\n",
    "#duration_bicycle,distance_bicycle,polyline_bicycle = response_reader(responses_bicycle)\n",
    "#duration_bicycle_car,distance_bicycle_car,polyline_bicycle_car = response_reader(response_bicycle_car)\n",
    "#duration_bicycle_transit,distance_bicycle_transit,polyline_bicycle_transit = response_reader(response_bicycle_transit)\n",
    "\n",
    "print(duration_car+duration_car_transit,distance_car+distance_car_transit) # car transit data\n",
    "#print(duration_car+duration_car_bicycle,distance_car+distance_car_bicycle) # car bicycle data\n",
    "print(duration_transit+duration_transit_car,distance_transit+distance_transit_car) # transit car data\n",
    "#print(duration_transit+duration_transit_bicycle,distance_transit+distance_transit_bicycle) # transit bicycle data\n",
    "#print(duration_bicycle+duration_bicycle_car,distance_bicycle+distance_bicycle_car) # bicycle car data\n",
    "#print(duration_bicycle+duration_bicycle_transit,distance_bicycle+distance_bicycle_transit) # bicycle transit data"
   ]
  },
  {
   "cell_type": "code",
   "execution_count": 42,
   "metadata": {},
   "outputs": [],
   "source": [
    "def polylineToCoord(tracer):\n",
    "    tracer = tracer.replace(':',',').split(';')\n",
    "    coordinates = []\n",
    "    for i in tracer:\n",
    "        coord = i.split(',')\n",
    "        coordinates.append(((float(coord[0])),(float(coord[1]))))\n",
    "    return coordinates"
   ]
  },
  {
   "cell_type": "code",
   "execution_count": 45,
   "metadata": {},
   "outputs": [],
   "source": [
    "def map_plot(origin,og_polyline,new_polyline_list,color_list,fileName):\n",
    "    origin_coord = origin.split(',')\n",
    "    outputMap = gmplot.GoogleMapPlotter(float(origin_coord[0]),float(origin_coord[1]), 12)\n",
    "    mapUrl = f'results/map_plot/{fileName}.html'\n",
    "\n",
    "    lats = [t[1] for t in og_polyline]\n",
    "    lngs = [t[0] for t in og_polyline]\n",
    "    \n",
    "    outputMap.plot(lats,lngs, color=\"black\", edge_width=3)\n",
    "\n",
    "    for i in range(len(new_polyline_list)):\n",
    "\n",
    "        new_lats = [t[0] for t in new_polyline_list[i]]\n",
    "        new_lngs = [t[1] for t in new_polyline_list[i]]\n",
    "\n",
    "        outputMap.plot(new_lats, new_lngs, color=color_list[i], edge_width=3)\n",
    "\n",
    "    outputMap.draw(mapUrl)\n",
    "\n",
    "    page = open(mapUrl)\n",
    "    soup = bs(page.read(),\"html.parser\")\n",
    "    srcKey  = f\"https://maps.googleapis.com/maps/api/js?key={env('GOOGLE_MAPS_KEY')}&libraries=visualization&sensor=true_or_false\"\n",
    "    line = soup.find('script',type=\"text/javascript\")\n",
    "    line['src'] = srcKey\n",
    "\n",
    "    with open(mapUrl, \"wb\") as f_output:\n",
    "        f_output.write(soup.prettify(\"utf-8\")) "
   ]
  },
  {
   "cell_type": "code",
   "execution_count": 46,
   "metadata": {},
   "outputs": [],
   "source": [
    "treated_polyline = polylineToCoord(filtered.iloc[ind]['coordinates'])\n",
    "\n",
    "map_plot(origin,treated_polyline,[polyline_full_car],[\"blue\"],\"full_car\")\n",
    "map_plot(origin,treated_polyline,[polyline_full_transit],[\"red\"],\"full_transit\")\n",
    "#map_plot(origin,treated_polyline,[polyline_full_bicycle],[\"green\"],\"full_bicycle\")\n",
    "\n",
    "map_plot(origin,treated_polyline,[polyline_car,polyline_car_transit],['blue','red'],'car_transit')\n",
    "map_plot(origin,treated_polyline,[polyline_transit,polyline_transit_car],['red','blue'],'transit_car')\n",
    "#map_plot(origin,treated_polyline,[polyline_transit,polyline_transit_bicycle],['red','green'],'transit_bicycle')\n"
   ]
  },
  {
   "cell_type": "code",
   "execution_count": 88,
   "metadata": {},
   "outputs": [
    {
     "name": "stdout",
     "output_type": "stream",
     "text": [
      "[(-0.2677, 51.533778), (-0.2677, 51.53326), (-0.26763, 51.53323), (-0.26758, 51.53319), (-0.26758, 51.53314), (-0.26656, 51.53315), (-0.26555, 51.53321), (-0.26507, 51.5332), (-0.26479, 51.53319), (-0.26477, 51.53324), (-0.26461, 51.53337), (-0.26426, 51.53347), (-0.26347, 51.53367), (-0.26295, 51.53381), (-0.26234, 51.534), (-0.26189, 51.53411), (-0.2617, 51.53415), (-0.26148, 51.53418), (-0.26128, 51.53418), (-0.26111, 51.53416), (-0.26094, 51.53412), (-0.26076, 51.53407), (-0.2607, 51.53401), (-0.26064, 51.53393), (-0.26059, 51.53385), (-0.26054, 51.53375), (-0.26033, 51.53321), (-0.26025, 51.53302), (-0.2602, 51.53284), (-0.26018, 51.53268), (-0.26015, 51.532), (-0.26015, 51.53198), (-0.2601, 51.5316), (-0.26005, 51.53123), (-0.25997, 51.53062), (-0.25997, 51.53053), (-0.25988, 51.53013), (-0.25977, 51.52986), (-0.2596, 51.52946), (-0.25939, 51.52899), (-0.25933, 51.52891), (-0.25928, 51.52892), (-0.25923, 51.52891), (-0.25919, 51.52889), (-0.25918, 51.52886), (-0.25919, 51.52883), (-0.25923, 51.52881), (-0.25928, 51.5288), (-0.25929, 51.52877), (-0.25929, 51.52858), (-0.25925, 51.52857), (-0.25922, 51.52855), (-0.25921, 51.52853), (-0.25922, 51.52851), (-0.25925, 51.52849), (-0.25929, 51.52848), (-0.25936, 51.52805), (-0.25946, 51.52769), (-0.25949, 51.52744), (-0.25959, 51.52704), (-0.25964, 51.52687), (-0.25977, 51.5264), (-0.25979, 51.52635), (-0.2599, 51.52604), (-0.26, 51.52576), (-0.26001, 51.52572), (-0.26007, 51.52561), (-0.26029, 51.5253), (-0.26059, 51.52487), (-0.26086, 51.52459), (-0.26133, 51.52411), (-0.26146, 51.52396), (-0.2616, 51.52383), (-0.26168, 51.52367), (-0.26169, 51.52353), (-0.26167, 51.52341), (-0.26165, 51.52328), (-0.26164, 51.52324), (-0.26186, 51.52292), (-0.26192, 51.5228), (-0.26196, 51.52265), (-0.26184, 51.52262), (-0.26151, 51.5225), (-0.26111, 51.52236), (-0.26081, 51.52227), (-0.26034, 51.52215), (-0.26, 51.52207), (-0.25969, 51.52201), (-0.25945, 51.52195), (-0.25941, 51.52189), (-0.25939, 51.52183), (-0.2594, 51.52171), (-0.25961, 51.5216), (-0.25976, 51.5215), (-0.25999, 51.52138), (-0.26031, 51.52127), (-0.26082, 51.52112), (-0.26094, 51.52107), (-0.26105, 51.52101), (-0.26111, 51.52097), (-0.26122, 51.52088), (-0.26133, 51.52078), (-0.26137, 51.52074), (-0.26152, 51.52058), (-0.26167, 51.52041), (-0.26178, 51.52024), (-0.26188, 51.52), (-0.26198, 51.51978), (-0.26208, 51.51973), (-0.26217, 51.51969), (-0.26222, 51.51968), (-0.26236, 51.51967), (-0.2625, 51.5197), (-0.26267, 51.51973), (-0.26298, 51.52025), (-0.26318, 51.52061), (-0.26348, 51.52113), (-0.26363, 51.52137), (-0.26373, 51.52154), (-0.26389, 51.52179), (-0.26395, 51.52188), (-0.26406, 51.52205), (-0.26424, 51.52227), (-0.26445, 51.5225), (-0.26462, 51.52267), (-0.26489, 51.5229), (-0.26525, 51.52318), (-0.26539, 51.52327), (-0.26549, 51.52334), (-0.26578, 51.52352), (-0.26595, 51.52361), (-0.26624, 51.52376), (-0.26661, 51.52393), (-0.26699, 51.52409), (-0.26761, 51.5243), (-0.26836, 51.52452), (-0.27007, 51.52504), (-0.27074, 51.52524), (-0.2716, 51.5255), (-0.27248, 51.52575), (-0.27294, 51.52588), (-0.27333, 51.52597), (-0.27342, 51.52599), (-0.27406, 51.52613), (-0.27443, 51.52619), (-0.27449, 51.5262), (-0.27491, 51.52628), (-0.27533, 51.52635), (-0.27549, 51.52637), (-0.276, 51.52644), (-0.27635, 51.52648), (-0.2768, 51.52653), (-0.27738, 51.52658), (-0.27789, 51.52661), (-0.27845, 51.52663), (-0.27898, 51.52664), (-0.27967, 51.52665), (-0.27975, 51.52665), (-0.28061, 51.52666), (-0.28104, 51.52667), (-0.28141, 51.52667), (-0.28195, 51.5267), (-0.28242, 51.52675), (-0.28285, 51.52682), (-0.28325, 51.52691), (-0.28336, 51.52694), (-0.28362, 51.52701), (-0.28372, 51.52704), (-0.28378, 51.52706), (-0.28435, 51.52722), (-0.28448, 51.52726), (-0.28506, 51.52742), (-0.28536, 51.52752), (-0.28562, 51.52761), (-0.28598, 51.52776), (-0.28649, 51.52798), (-0.28681, 51.52814), (-0.28713, 51.5283), (-0.28741, 51.52844), (-0.28768, 51.52856), (-0.28778, 51.5286), (-0.28833, 51.52879), (-0.28879, 51.52892), (-0.28962, 51.52911), (-0.29025, 51.52924), (-0.29072, 51.52934), (-0.29136, 51.52948), (-0.29155, 51.52952), (-0.29202, 51.52961), (-0.29251, 51.5297), (-0.29296, 51.52978), (-0.29332, 51.52983), (-0.29373, 51.52989), (-0.29396, 51.52993), (-0.29418, 51.52996), (-0.29476, 51.53004), (-0.2958, 51.53018), (-0.29668, 51.53032), (-0.29782, 51.53047), (-0.29879, 51.53065), (-0.29952, 51.53078), (-0.30003, 51.53086), (-0.30012, 51.53087), (-0.30062, 51.53093), (-0.30138, 51.53102), (-0.30196, 51.53107), (-0.30246, 51.5311), (-0.30337, 51.53113), (-0.30418, 51.53115), (-0.30513, 51.53119), (-0.30546, 51.53121), (-0.30578, 51.53124), (-0.30637, 51.53132), (-0.30798, 51.53159), (-0.30817, 51.53162), (-0.30985, 51.53192), (-0.31035, 51.53201), (-0.31047, 51.53203), (-0.31111, 51.53213), (-0.31178, 51.53221), (-0.3123, 51.53227), (-0.31325, 51.53235), (-0.3145, 51.53242), (-0.31534, 51.53247), (-0.31566, 51.53249), (-0.31664, 51.53258), (-0.31768, 51.53271), (-0.31895, 51.53286), (-0.32033, 51.53302), (-0.32154, 51.53316), (-0.32205, 51.53322), (-0.32281, 51.5333), (-0.32323, 51.53335), (-0.32415, 51.53347), (-0.32455, 51.53352), (-0.32513, 51.53359), (-0.32582, 51.53365), (-0.32659, 51.53368), (-0.32744, 51.53369), (-0.32982, 51.53369), (-0.32999, 51.53369), (-0.33046, 51.53371), (-0.33052, 51.53371), (-0.33089, 51.53372), (-0.33141, 51.53374), (-0.3323, 51.5338), (-0.33288, 51.53384), (-0.33357, 51.53392), (-0.33389, 51.53395), (-0.33421, 51.53399), (-0.33482, 51.53407), (-0.33597, 51.53422), (-0.33694, 51.53434), (-0.33768, 51.53445), (-0.33824, 51.53451), (-0.33883, 51.53458), (-0.34002, 51.53477), (-0.34107, 51.53496), (-0.34213, 51.53517), (-0.34246, 51.53524), (-0.34337, 51.53544), (-0.34421, 51.53563), (-0.34593, 51.53602), (-0.34667, 51.53616), (-0.34684, 51.53619), (-0.3472, 51.53626), (-0.34881, 51.53654), (-0.34911, 51.53659), (-0.35091, 51.53687), (-0.35152, 51.53698), (-0.35205, 51.5371), (-0.35344, 51.5374), (-0.35572, 51.53791), (-0.35694, 51.53818), (-0.35739, 51.53828), (-0.35791, 51.5384), (-0.3586, 51.53854), (-0.35915, 51.53865), (-0.35942, 51.53869), (-0.35966, 51.53874), (-0.36024, 51.53887), (-0.36173, 51.53918), (-0.36271, 51.53936), (-0.3633, 51.53946), (-0.36369, 51.53952), (-0.36452, 51.53962), (-0.36522, 51.5397), (-0.36562, 51.53974), (-0.36567, 51.53975), (-0.36598, 51.53979), (-0.36734, 51.53998), (-0.36807, 51.54009), (-0.36896, 51.54023), (-0.36953, 51.54034), (-0.36988, 51.54041), (-0.37011, 51.54046), (-0.37073, 51.54061), (-0.37141, 51.54078), (-0.3727, 51.54113), (-0.37348, 51.54135), (-0.37456, 51.54172), (-0.37517, 51.54193), (-0.37623, 51.54231), (-0.37679, 51.54251), (-0.37715, 51.54262), (-0.37737, 51.54271), (-0.37776, 51.54285), (-0.37845, 51.5431), (-0.38048, 51.54382), (-0.3813, 51.5441), (-0.38275, 51.54458), (-0.38372, 51.54491), (-0.38409, 51.54503), (-0.38467, 51.54522), (-0.38554, 51.5455), (-0.38626, 51.54572), (-0.38715, 51.54599), (-0.38813, 51.54628), (-0.38933, 51.54662), (-0.39049, 51.54696), (-0.39083, 51.54706), (-0.39101, 51.54711), (-0.39151, 51.54724), (-0.39202, 51.54738), (-0.3928, 51.54755), (-0.39296, 51.54758), (-0.39368, 51.54773), (-0.3939, 51.54778), (-0.39451, 51.54788), (-0.3951, 51.54796), (-0.39587, 51.54803), (-0.39675, 51.5481), (-0.39764, 51.54814), (-0.39862, 51.54816), (-0.39993, 51.54817), (-0.40097, 51.54815), (-0.40169, 51.54813), (-0.40188, 51.54812), (-0.40265, 51.54808), (-0.40501, 51.54793), (-0.40529, 51.54792), (-0.40578, 51.54791), (-0.40702, 51.54788), (-0.40736, 51.54787), (-0.40755, 51.54787), (-0.40792, 51.54786), (-0.40861, 51.54786), (-0.4093, 51.54788), (-0.40995, 51.54791), (-0.41114, 51.54797), (-0.41248, 51.54804), (-0.41359, 51.54811), (-0.41456, 51.54818), (-0.415, 51.54821), (-0.41582, 51.54825), (-0.4165, 51.54829), (-0.41927, 51.54847), (-0.41989, 51.54851), (-0.4202, 51.54853), (-0.42044, 51.54855), (-0.42081, 51.54857), (-0.42186, 51.54863), (-0.42266, 51.54867), (-0.42371, 51.54874), (-0.42646, 51.54891), (-0.42748, 51.54897), (-0.42882, 51.54906), (-0.43013, 51.54914), (-0.43114, 51.54921), (-0.43149, 51.54924), (-0.43216, 51.54929), (-0.4329, 51.54936), (-0.43353, 51.54943), (-0.43371, 51.54945), (-0.43418, 51.54951), (-0.43478, 51.54961), (-0.43543, 51.54974), (-0.43656, 51.55001), (-0.43705, 51.55014), (-0.43749, 51.55027), (-0.43789, 51.55041), (-0.43832, 51.55056), (-0.43842, 51.5506), (-0.43854, 51.55065), (-0.43867, 51.5507), (-0.43921, 51.55093), (-0.44009, 51.55133), (-0.44037, 51.55147), (-0.44122, 51.55189), (-0.44191, 51.55224), (-0.44225, 51.5524), (-0.44295, 51.5527), (-0.44357, 51.55293), (-0.44408, 51.5531), (-0.44482, 51.55332), (-0.44531, 51.55345), (-0.44583, 51.55357), (-0.44653, 51.55372), (-0.44718, 51.55383), (-0.44774, 51.55391), (-0.44796, 51.55394), (-0.44839, 51.55399), (-0.4491, 51.55406), (-0.4492, 51.55407), (-0.44958, 51.55411), (-0.45015, 51.55415), (-0.45159, 51.55425), (-0.45393, 51.55444), (-0.45447, 51.55449), (-0.45509, 51.55458), (-0.45575, 51.55471), (-0.45636, 51.55483), (-0.45689, 51.55494), (-0.45724, 51.55503), (-0.45734, 51.55506), (-0.45748, 51.5551), (-0.45786, 51.5552), (-0.45824, 51.55533), (-0.45872, 51.55548), (-0.45919, 51.55563), (-0.45944, 51.55572), (-0.45972, 51.55582), (-0.46149, 51.55644), (-0.46246, 51.55676), (-0.46296, 51.55691), (-0.46334, 51.55703), (-0.46388, 51.5572), (-0.46419, 51.55729), (-0.46477, 51.55745), (-0.46497, 51.55745), (-0.46512, 51.55746), (-0.46525, 51.55748), (-0.46557, 51.55755), (-0.46597, 51.55765), (-0.46611, 51.55768), (-0.46667, 51.5578), (-0.46718, 51.5579), (-0.46774, 51.55801), (-0.4682, 51.5581), (-0.46834, 51.55813), (-0.46858, 51.55818), (-0.46888, 51.55829), (-0.46904, 51.55835), (-0.46915, 51.55839), (-0.46922, 51.55837), (-0.46927, 51.55836), (-0.46935, 51.55835), (-0.46945, 51.55835), (-0.46956, 51.55836), (-0.46967, 51.55838), (-0.46974, 51.5584), (-0.46981, 51.55843), (-0.46987, 51.55846), (-0.46992, 51.5585), (-0.46997, 51.55855), (-0.47, 51.55859), (-0.47002, 51.55864), (-0.47003, 51.55869), (-0.47003, 51.55874), (-0.47001, 51.5588), (-0.46999, 51.55884), (-0.46995, 51.55889), (-0.46989, 51.55894), (-0.46981, 51.55899), (-0.46974, 51.55902), (-0.46968, 51.55904), (-0.46961, 51.55905), (-0.46948, 51.55923), (-0.46942, 51.55935), (-0.46936, 51.55946), (-0.46925, 51.55956), (-0.4692, 51.55964), (-0.46915, 51.55971), (-0.46909, 51.5598), (-0.46897, 51.55996), (-0.46883, 51.56013), (-0.46837, 51.56061), (-0.4679, 51.56109), (-0.46742, 51.56158), (-0.46709, 51.56189), (-0.46694, 51.56202), (-0.46674, 51.56217), (-0.46653, 51.56231), (-0.46632, 51.56246), (-0.46593, 51.56269), (-0.46568, 51.56283), (-0.46541, 51.56296), (-0.46501, 51.56312), (-0.46459, 51.56331), (-0.46453, 51.56339), (-0.46444, 51.56348), (-0.46436, 51.56357), (-0.46428, 51.56372), (-0.46428, 51.56374), (-0.46427, 51.56377), (-0.46425, 51.56379), (-0.46424, 51.5638), (-0.46431, 51.56384), (-0.46435, 51.56387), (-0.46441, 51.56393), (-0.46447, 51.56403), (-0.46455, 51.56419), (-0.46463, 51.5644), (-0.46488, 51.56507), (-0.46503, 51.56555), (-0.46536, 51.56656), (-0.46575, 51.56777), (-0.46611, 51.56882), (-0.46631, 51.56944), (-0.46707, 51.57176), (-0.46741, 51.57269), (-0.46758, 51.57315), (-0.46777, 51.57372), (-0.4679, 51.57403), (-0.46799, 51.57419)]\n"
     ]
    }
   ],
   "source": [
    " # transit value test\n",
    "\n",
    "data = filtered['midpoint'].to_list()\n",
    "data = list(map(lambda x: x.split(\",\"),data))\n",
    "hope = closest_list(transit_midpoint[1],data)\n",
    "\n",
    "dataf_hope = filtered[filtered['midpoint'] == f'{hope[0]},{hope[1]}']['coordinates'].values\n",
    "treated_hope = polylineToCoord(*dataf_hope)\n",
    "\n",
    "map_plot(origin,treated_hope,[polyline_full_transit],[\"red\"],\"transit_value_test\")"
   ]
  }
 ],
 "metadata": {
  "kernelspec": {
   "display_name": "Python 3",
   "language": "python",
   "name": "python3"
  },
  "language_info": {
   "codemirror_mode": {
    "name": "ipython",
    "version": 3
   },
   "file_extension": ".py",
   "mimetype": "text/x-python",
   "name": "python",
   "nbconvert_exporter": "python",
   "pygments_lexer": "ipython3",
   "version": "3.11.3"
  },
  "orig_nbformat": 4
 },
 "nbformat": 4,
 "nbformat_minor": 2
}
