{
 "cells": [
  {
   "cell_type": "code",
   "execution_count": 1,
   "metadata": {},
   "outputs": [],
   "source": [
    "from env import env\n",
    "import pandas as pd\n"
   ]
  },
  {
   "cell_type": "code",
   "execution_count": 2,
   "metadata": {},
   "outputs": [],
   "source": [
    "df = pd.read_csv('results/bike-results/result.csv')"
   ]
  },
  {
   "cell_type": "markdown",
   "metadata": {},
   "source": [
    "### Get od pair"
   ]
  },
  {
   "cell_type": "code",
   "execution_count": 3,
   "metadata": {},
   "outputs": [],
   "source": [
    "import random as rd"
   ]
  },
  {
   "cell_type": "code",
   "execution_count": 11,
   "metadata": {},
   "outputs": [
    {
     "name": "stdout",
     "output_type": "stream",
     "text": [
      "41.9106,-87.6494\n",
      "41.76,-87.58\n"
     ]
    }
   ],
   "source": [
    "# try later: https://geobgu.xyz/py/shapely.html\n",
    "\n",
    "lat = df['station_lat'].to_list()\n",
    "lng = df['station_lng'].to_list()\n",
    "\n",
    "rd.seed(31)\n",
    "x = rd.sample(range(0,2191),2)\n",
    "\n",
    "originCoord = (lat[x[0]],lng[x[0]])\n",
    "origin = f'{originCoord[0]},{originCoord[1]}'\n",
    "\n",
    "destinationCoord = (lat[x[1]],lng[x[1]])\n",
    "destination = f'{destinationCoord[0]},{destinationCoord[1]}'\n",
    "\n",
    "print(origin)\n",
    "print(destination)"
   ]
  },
  {
   "cell_type": "markdown",
   "metadata": {},
   "source": [
    "### Here requests"
   ]
  },
  {
   "cell_type": "code",
   "execution_count": 14,
   "metadata": {},
   "outputs": [],
   "source": [
    "from haversine import haversine, Unit\n",
    "import urllib.request\n",
    "import json, sys"
   ]
  },
  {
   "cell_type": "code",
   "execution_count": null,
   "metadata": {},
   "outputs": [],
   "source": [
    "\"\"\"\n",
    "def closest(coord): # need refactor\n",
    "\n",
    "    data = pd.read_csv()\n",
    "    dist = sys.float_info.max\n",
    "    waypoint = ()\n",
    "    for ind,row in data.iterrows():\n",
    "        dist_test = distance(coord[0],coord[1],row['station_lat'],row['longitude']) # use haversine\n",
    "        \n",
    "        if dist_test < dist:\n",
    "            dist = dist_test\n",
    "            waypoint = (row['latitude'],row['longitude'])\n",
    "    return waypoint\n",
    "\"\"\""
   ]
  },
  {
   "cell_type": "code",
   "execution_count": 23,
   "metadata": {},
   "outputs": [],
   "source": [
    "# get closest bike share point on coordinate\n",
    "def closest(coord: list): #### need refactor!!\n",
    "    data = pd.read_csv('results/bike-results/result.csv')\n",
    "    dist = sys.float_info.max\n",
    "    waypoint = ()\n",
    "    for ind,row in data.iterrows():\n",
    "        distTest = haversine((float(coord[0]),float(coord[1])),(row['station_lat'],row['station_lng']))\n",
    "        if distTest < dist:\n",
    "            dist = distTest\n",
    "            waypoint = (row['station_lat'],row['station_lng'])\n",
    "    return waypoint"
   ]
  },
  {
   "cell_type": "markdown",
   "metadata": {},
   "source": [
    "#### Full route:"
   ]
  },
  {
   "cell_type": "code",
   "execution_count": 22,
   "metadata": {},
   "outputs": [],
   "source": [
    "def here_full_request(origin:str,destination:str,maxAlternatives=0):\n",
    "    query = f'destination={destination}&origin={origin}'\n",
    "    hereKey = env('HERE_API_KEY')\n",
    "\n",
    "     # Car co2 and fuel consumption link: https://developer.here.com/documentation/routing-api/dev_guide/topics/use-cases/calculate-fuel-consumption.html\n",
    "\n",
    "    mode = ['car','bus','bicycle']\n",
    "    fuelConsumption = [\n",
    "        '&fuel[type]=diesel&fuel[freeflowspeedtable]=0,0,60,0.1,80,0.12&fuel[trafficspeedtable]=0,0,60,0.1,80,0.12&fuel[additionalconsumption]=1.8&fuel[ascent]=0.1',\n",
    "        '&fuel[type]=diesel&fuel[freeflowspeedtable]=0,0,60,0.1,80,0.12&fuel[trafficspeedtable]=0,0,60,0.1,80,0.12&fuel[additionalconsumption]=1.8&fuel[ascent]=0.1', # add fuel consumption parameters for bus\n",
    "        '' \n",
    "    ]\n",
    "\n",
    "    responses = []\n",
    "    \n",
    "    for i in range(len(mode)):\n",
    "        if mode[i] == 'bicycle':\n",
    "            newOrigin = closest(origin.split(','))\n",
    "            newDestination = closest(destination.split(','))\n",
    "            query = f'destination={newDestination[0]},{newDestination[1]}&origin={newOrigin[0]},{newOrigin[1]}'\n",
    "        url = 'https://router.hereapi.com/v8/routes?transportMode=%s%s&%s&maxAlternatives=%d&return=summary,polyline&apikey=%s' % (mode[i],fuelConsumption[i],query,maxAlternatives,hereKey)\n",
    "        response = urllib.request.urlopen(url).read().decode('utf-8')\n",
    "        responses.append(json.loads(response))\n",
    "    return responses\n",
    "#full_responses = here_full_request(origin,destination)"
   ]
  },
  {
   "cell_type": "code",
   "execution_count": 24,
   "metadata": {},
   "outputs": [],
   "source": [
    "full_responses = here_full_request(origin,destination)"
   ]
  },
  {
   "cell_type": "markdown",
   "metadata": {},
   "source": [
    "#### Car hybrid:"
   ]
  },
  {
   "cell_type": "code",
   "execution_count": null,
   "metadata": {},
   "outputs": [],
   "source": [
    "def here_car_request(origin,destination,midpoint,maxAlternatives=0): # unfinished\n",
    "    query = [\n",
    "        f'destination={midpoint}&origin={origin}', # head\n",
    "        f'destination={destination}&origin={midpoint}' # tail\n",
    "    ]\n",
    "    hereKey = env('HERE_API_KEY')\n",
    "\n",
    "    # car-bus-walk\n",
    "    # car-bike-walk\n",
    "\n",
    "    modeOne = ['car','bus']\n",
    "    modeTwo = ['car','bicycle']\n",
    "\n",
    "    fuelConsumptionOne = [ # car - bus\n",
    "        '&fuel[type]=diesel&fuel[freeflowspeedtable]=0,0,60,0.1,80,0.12&fuel[trafficspeedtable]=0,0,60,0.1,80,0.12&fuel[additionalconsumption]=1.8&fuel[ascent]=0.1',\n",
    "        '&fuel[type]=diesel&fuel[freeflowspeedtable]=0,0,60,0.1,80,0.12&fuel[trafficspeedtable]=0,0,60,0.1,80,0.12&fuel[additionalconsumption]=1.8&fuel[ascent]=0.1' # add fuel consumption parameters for bus\n",
    "    ]\n",
    "\n",
    "    fuelConsumptionTwo = [ # car - bicycle\n",
    "        '&fuel[type]=diesel&fuel[freeflowspeedtable]=0,0,60,0.1,80,0.12&fuel[trafficspeedtable]=0,0,60,0.1,80,0.12&fuel[additionalconsumption]=1.8&fuel[ascent]=0.1',\n",
    "        ''\n",
    "    ]\n",
    "\n",
    "    for i in range(len(query)):\n",
    "        urlOne = 'https://router.hereapi.com/v8/routes?transportMode=%s%s&%s&maxAlternatives=%d&return=summary,polyline&apikey=%s' % (modeOne[i],fuelConsumptionOne[i],query[i],maxAlternatives,hereKey)\n",
    "        urltwo = 'https://router.hereapi.com/v8/routes?transportMode=%s%s&%s&maxAlternatives=%d&return=summary,polyline&apikey=%s' % (modeTwo[i],fuelConsumptionTwo[i],query[i],maxAlternatives,hereKey)\n",
    "\n",
    "    "
   ]
  },
  {
   "cell_type": "markdown",
   "metadata": {},
   "source": [
    "#### Transit Hybrid:"
   ]
  },
  {
   "cell_type": "code",
   "execution_count": null,
   "metadata": {},
   "outputs": [],
   "source": [
    "def here_transit_request(origin,destination,midpoint,maxAlternatives=0):\n",
    "    query = [\n",
    "        f'destination={midpoint}&origin={origin}', # head\n",
    "        f'destination={destination}&origin={midpoint}' # tail\n",
    "    ]\n",
    "    hereKey = env('HERE_API_KEY')"
   ]
  },
  {
   "cell_type": "markdown",
   "metadata": {},
   "source": [
    "#### Bicycle hybrid"
   ]
  },
  {
   "cell_type": "code",
   "execution_count": null,
   "metadata": {},
   "outputs": [],
   "source": [
    "def here_bicycle_request(origin,destination,midpoint,maxAlternatives=0):\n",
    "    query = [\n",
    "        f'destination={midpoint}&origin={origin}', # head\n",
    "        f'destination={destination}&origin={midpoint}' # tail\n",
    "    ]\n",
    "    hereKey = env('HERE_API_KEY')"
   ]
  },
  {
   "cell_type": "markdown",
   "metadata": {},
   "source": [
    "#### TomTom routing test with car:"
   ]
  },
  {
   "cell_type": "code",
   "execution_count": null,
   "metadata": {},
   "outputs": [],
   "source": [
    "#query = f'{origin}:{destination}'\n",
    "#tomtomkey = env('TOM_TOM_KEY')\n",
    "\n",
    "#url='https://api.tomtom.com/routing/1/calculateRoute/%s/json?&key=%s&sectionType=traffic&instructionsType=coded&maxAlternatives=%d&traffic=true&travelMode=car' % (query, tomtomkey, maxAlternatives)"
   ]
  },
  {
   "cell_type": "markdown",
   "metadata": {},
   "source": [
    "#### Here routing test with car:"
   ]
  },
  {
   "cell_type": "code",
   "execution_count": 6,
   "metadata": {},
   "outputs": [],
   "source": [
    "query = f'destination={destination}&origin={origin}'\n",
    "hereKey = env('HERE_API_KEY')\n",
    "fuelConsumption = 'transportMode=car&fuel[type]=diesel&fuel[freeflowspeedtable]=0,0,60,0.1,80,0.12&fuel[trafficspeedtable]=0,0,60,0.1,80,0.12&fuel[additionalconsumption]=1.8&fuel[ascent]=0.1'\n",
    "\n",
    "url = 'https://router.hereapi.com/v8/routes?%s&%s&return=summary,polyline&apikey=%s' % (fuelConsumption,query,hereKey)\n",
    "\n",
    "hereResponse = urllib.request.urlopen(url).read().decode('utf-8')\n",
    "hereResponse = json.loads(hereResponse)"
   ]
  },
  {
   "cell_type": "markdown",
   "metadata": {},
   "source": [
    "### Recover polyline coordinates from request "
   ]
  },
  {
   "cell_type": "code",
   "execution_count": 5,
   "metadata": {},
   "outputs": [],
   "source": [
    "import flexpolyline as fp"
   ]
  },
  {
   "cell_type": "code",
   "execution_count": 5,
   "metadata": {},
   "outputs": [],
   "source": [
    "# to be determined\n",
    "#colors = {\n",
    "#    'pedestrian':'blue',\n",
    "#    'bus':'yellow',\n",
    "#    'bicycle':'green'\n",
    "#}\n",
    "\n",
    "# add colors to different sections of route depending on ransport modal\n",
    "\n",
    "def coord_reader(response):\n",
    "    latList = []\n",
    "    lngList = []\n",
    "\n",
    "    for i in response['routes'][0]['sections']:\n",
    "        try:\n",
    "            polyline = fp.decode(i['polyline'])\n",
    "\n",
    "            for coord in polyline:\n",
    "                latList.append(coord[0])\n",
    "                lngList.append(coord[1])\n",
    "        \n",
    "        except:\n",
    "            pass\n",
    "\n",
    "        latList.append(i['arrival']['place']['location']['lat'])\n",
    "        lngList.append(i['arrival']['place']['location']['lng'])\n",
    "    \n",
    "    return latList,lngList"
   ]
  },
  {
   "cell_type": "code",
   "execution_count": 7,
   "metadata": {},
   "outputs": [],
   "source": [
    "latList,lngList = coord_reader(hereResponse)"
   ]
  },
  {
   "cell_type": "markdown",
   "metadata": {},
   "source": [
    "### Route midpoint"
   ]
  },
  {
   "cell_type": "code",
   "execution_count": 8,
   "metadata": {},
   "outputs": [
    {
     "name": "stdout",
     "output_type": "stream",
     "text": [
      "route midpoint for multimodal: (41.842255, -87.61019)\n"
     ]
    }
   ],
   "source": [
    "#Route midpoint\n",
    "middle = delta = hereResponse['routes'][0]['sections'][0]['summary']['length']/2\n",
    "zipList = list(zip(latList,lngList))\n",
    "before = after = None\n",
    "dist = 0\n",
    "\n",
    "for i in range(len(zipList)-1):\n",
    "    dist += haversine(zipList[i],zipList[i+1], unit=Unit.METERS)\n",
    "    sub = abs(middle-dist)\n",
    "    if sub < delta:\n",
    "        delta = sub\n",
    "        before = zipList[i+1]\n",
    "    if sub > delta:\n",
    "        after = zipList[i+1]\n",
    "        break\n",
    "\n",
    "midpointCoord = ((before[0]+after[0])/2,(before[1]+after[1])/2)\n",
    "midpoint = f'{midpointCoord[0]},{midpointCoord[1]}'\n",
    "\n",
    "print(f'route midpoint for multimodal: {midpointCoord}')"
   ]
  },
  {
   "cell_type": "markdown",
   "metadata": {},
   "source": [
    "### Route map print"
   ]
  },
  {
   "cell_type": "code",
   "execution_count": null,
   "metadata": {},
   "outputs": [],
   "source": [
    "from bs4 import BeautifulSoup as bs\n",
    "import gmplot"
   ]
  },
  {
   "cell_type": "code",
   "execution_count": 11,
   "metadata": {},
   "outputs": [],
   "source": [
    "def map_print(fileName,originCoord,latList,lngList,midpointCoord,pointMarker=False):\n",
    "\n",
    "    outputMap = gmplot.GoogleMapPlotter(originCoord[0],originCoord[1], 12)\n",
    "\n",
    "    outputMap.plot(latList, lngList, edge_width=3)\n",
    "    mapUrl = f'results/map_plot/{fileName}.html'\n",
    "\n",
    "    if pointMarker:\n",
    "        outputMap.marker(midpointCoord[0],midpointCoord[1],color='green')\n",
    "\n",
    "    outputMap.draw(mapUrl)\n",
    "\n",
    "    # adding the api key into html file\n",
    "    page = open(mapUrl)\n",
    "    soup = bs(page.read(),\"html.parser\")\n",
    "    srcKey  = f\"https://maps.googleapis.com/maps/api/js?key={env('GOOGLE_MAPS_KEY')}&libraries=visualization&sensor=true_or_false\"\n",
    "    line = soup.find('script',type=\"text/javascript\")\n",
    "    line['src'] = srcKey\n",
    "\n",
    "    with open(mapUrl, \"wb\") as f_output:\n",
    "        f_output.write(soup.prettify(\"utf-8\"))  "
   ]
  },
  {
   "cell_type": "code",
   "execution_count": 14,
   "metadata": {},
   "outputs": [],
   "source": [
    "map_print('Here_map',originCoord,latList,lngList,midpointCoord)"
   ]
  }
 ],
 "metadata": {
  "kernelspec": {
   "display_name": "Python 3",
   "language": "python",
   "name": "python3"
  },
  "language_info": {
   "codemirror_mode": {
    "name": "ipython",
    "version": 3
   },
   "file_extension": ".py",
   "mimetype": "text/x-python",
   "name": "python",
   "nbconvert_exporter": "python",
   "pygments_lexer": "ipython3",
   "version": "3.10.7"
  },
  "orig_nbformat": 4
 },
 "nbformat": 4,
 "nbformat_minor": 2
}
