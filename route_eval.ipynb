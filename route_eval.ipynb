{
 "cells": [
  {
   "cell_type": "code",
   "execution_count": 70,
   "metadata": {},
   "outputs": [],
   "source": [
    "from pyDecision.algorithm import ahp_method\n",
    "import matplotlib.pyplot as plt\n",
    "import matplotlib\n",
    "import pandas as pd\n",
    "import numpy as np"
   ]
  },
  {
   "cell_type": "code",
   "execution_count": 71,
   "metadata": {},
   "outputs": [],
   "source": [
    "df = pd.read_csv(\"results/filtered_responses.csv\")"
   ]
  },
  {
   "cell_type": "code",
   "execution_count": 72,
   "metadata": {},
   "outputs": [],
   "source": [
    "def AHP(matrix,derivation=\"geometric\"):\n",
    "    #weights\n",
    "    weights,rc = ahp_method(matrix,wd=derivation)\n",
    "\n",
    "    for i in range (0, weights.shape[0]):\n",
    "        print ('w_w(feature '+str(i+1)+'): ',round(weights[i],3))\n",
    "\n",
    "    #consistency ratio\n",
    "    print('RC: ' + str(round(rc, 2)))\n",
    "    if (rc > 0.1):\n",
    "        print('The solution is inconsistent, pairwise comparison must be reviewed')\n",
    "    else:\n",
    "        print('The solution is consistent')\n",
    "\n",
    "    return weights"
   ]
  },
  {
   "cell_type": "code",
   "execution_count": 73,
   "metadata": {},
   "outputs": [],
   "source": [
    "# decision matrix \n",
    "modal_decision_worker = [[1,3,9,6],[0.33,1,8,3],[0.11,0.12,1,0.2],[0.17,0.33,5,1]]\n",
    "modal_decision_green = [[1,0.33,0.11,3],[3,1,0.17,5],[9,6,1,9],[0.33,0.2,0.11,1]]\n",
    "modal_decision_safe = [[1,2,6,6],[0.50,1,6,5],[0.17,0.17,1,0.50],[0.17,0.20,2,1]]\n",
    "modal_decision_tourist = [[1,0.50,0.50,0.17],[2,1,3,1],[2,0.33,1,0.20],[6,1,5,1]]"
   ]
  },
  {
   "cell_type": "code",
   "execution_count": 74,
   "metadata": {},
   "outputs": [
    {
     "name": "stdout",
     "output_type": "stream",
     "text": [
      "Worker\n",
      "w_w(feature 1):  0.575\n",
      "w_w(feature 2):  0.271\n",
      "w_w(feature 3):  0.037\n",
      "w_w(feature 4):  0.117\n",
      "RC: 0.07\n",
      "The solution is consistent\n",
      "\n",
      "Green\n",
      "w_w(feature 1):  0.084\n",
      "w_w(feature 2):  0.185\n",
      "w_w(feature 3):  0.688\n",
      "w_w(feature 4):  0.043\n",
      "RC: 0.08\n",
      "The solution is consistent\n",
      "\n",
      "Safe\n",
      "w_w(feature 1):  0.508\n",
      "w_w(feature 2):  0.343\n",
      "w_w(feature 3):  0.06\n",
      "w_w(feature 4):  0.089\n",
      "RC: 0.04\n",
      "The solution is consistent\n",
      "\n",
      "Tourist\n",
      "w_w(feature 1):  0.091\n",
      "w_w(feature 2):  0.315\n",
      "w_w(feature 3):  0.121\n",
      "w_w(feature 4):  0.472\n",
      "RC: 0.07\n",
      "The solution is consistent\n"
     ]
    }
   ],
   "source": [
    "print('Worker')\n",
    "weights_w = AHP(modal_decision_worker)\n",
    "print('\\nGreen')\n",
    "weights_g = AHP(modal_decision_green)\n",
    "print('\\nSafe')\n",
    "weights_s = AHP(modal_decision_safe)\n",
    "print('\\nTourist')\n",
    "weights_t = AHP(modal_decision_tourist)"
   ]
  },
  {
   "cell_type": "code",
   "execution_count": 75,
   "metadata": {},
   "outputs": [],
   "source": [
    "def evaluate_routes(routes, weights_w, columns):\n",
    "    routes_parameters = routes[columns[1:]]\n",
    "    results_array = []\n",
    "    result = 0\n",
    "    for route in routes_parameters.iterrows(): # iterrows !!!\n",
    "        result = np.multiply(np.array(route[1]), np.array(weights_w))\n",
    "        results_array.append(np.sum(result))\n",
    "    return results_array\n",
    "\n",
    "def evaluate_all(weight_list,dataframe_list,columns):\n",
    "    result = []\n",
    "    for i in weight_list:\n",
    "        result.append([])\n",
    "    \n",
    "    for w in range(len(weight_list)):\n",
    "        for df in dataframe_list:\n",
    "            result[w].append(evaluate_routes(df,weight_list[w],columns))\n",
    "    return result\n",
    "\n",
    "def Id_SetId(result_list,dataframe_list):\n",
    "    id_list = []\n",
    "    for i in result_list:\n",
    "        id_list.append([])\n",
    "    \n",
    "    for result in range(len(result_list)):\n",
    "        #for weight in result_list[result]:\n",
    "        for weight in range(len(result_list[result])):\n",
    "            \n",
    "            max_value = max(result_list[result][weight])\n",
    "            max_index = result_list[result][weight].index(max_value)\n",
    "            df = dataframe_list[weight].loc[max_index]\n",
    "            id_list[result].append([max_value,df['index'],df['setID']])\n",
    "    return id_list"
   ]
  },
  {
   "cell_type": "code",
   "execution_count": 76,
   "metadata": {},
   "outputs": [
    {
     "name": "stdout",
     "output_type": "stream",
     "text": [
      "Numbers of OD 2 pairs: 136\n"
     ]
    }
   ],
   "source": [
    "dfs = []\n",
    "for i in range(int(df['setID'].max())):\n",
    "    x = df.loc[df['setID'] == i]\n",
    "    if x.empty or x.isnull().values.any():\n",
    "        continue\n",
    "    x = x.reset_index()\n",
    "    dfs.append(x)\n",
    "print(\"Numbers of OD 2 pairs:\",len(dfs))"
   ]
  },
  {
   "cell_type": "code",
   "execution_count": 80,
   "metadata": {},
   "outputs": [],
   "source": [
    "columns = ['index','duration_norm', 'distance_norm', 'emission_norm', 'price_norm']\n",
    "\n",
    "weight_list = [weights_w,weights_g,weights_s,weights_t]\n",
    "r = evaluate_all(weight_list,dfs,columns)\n",
    "id_list = Id_SetId(r,dfs)"
   ]
  },
  {
   "cell_type": "code",
   "execution_count": 37,
   "metadata": {},
   "outputs": [],
   "source": [
    "def sum_all(id_list,dataframe_list,columns):\n",
    "    \n",
    "    means = []\n",
    "    \n",
    "    for i in range(len(id_list)):\n",
    "        \n",
    "        mean_df = pd.DataFrame(columns=columns)\n",
    "        \n",
    "        for j in range(len(dataframe_list)):\n",
    "            #x = dfs[0].loc[dfs[0]['ID'] == id_list[0][0][1]]\n",
    "            mean_df = pd.concat([mean_df,dataframe_list[j].loc[dataframe_list[j]['index'] == id_list[i][j][1]]],join='inner')\n",
    "        means.append(mean_df.mean())\n",
    "        \n",
    "    return means\n",
    "\n",
    "def sum_greedy(dataframe_list,columns,norms):\n",
    "    \n",
    "    greedy_means = []\n",
    "    \n",
    "    for i in norms:\n",
    "        \n",
    "        mean_df = pd.DataFrame(columns=columns)\n",
    "        \n",
    "        for j in range(len(dataframe_list)):\n",
    "            \n",
    "            mean_df = pd.concat([mean_df, dataframe_list[j].loc[dataframe_list[j][i] == 1]],join='inner')\n",
    "            \n",
    "        greedy_means.append(mean_df.mean())\n",
    "    \n",
    "    return greedy_means"
   ]
  },
  {
   "cell_type": "code",
   "execution_count": 38,
   "metadata": {},
   "outputs": [],
   "source": [
    "#columns = [\"crimeNorm\",\"accidentNorm\",\"natureNorm\",\"attractionNorm\",\"durationNorm\",\"trafficNorm\",\"lengthNorm\",\"crimes\",\n",
    "#           \"accidents\",\"attractions\",\"nature\",\"traffic\",\"duration\",\"length\",\"polution\",\"polutionNorm\"]\n",
    "\n",
    "#norms = [\"crimeNorm\",\"accidentNorm\",\"natureNorm\",\"attractionNorm\",\"durationNorm\",\"trafficNorm\",\"lengthNorm\",\"polutionNorm\"]\n",
    "\n",
    "columns = [\"duration_norm\",\"distance_norm\",\"emission_norm\",\"price_norm\",\"duration\",\"distance\",\"emission\",\"price\"]\n",
    "\n",
    "norms = [\"duration_norm\",\"distance_norm\",\"emission_norm\",\"price_norm\"]\n",
    "\n",
    "mean = sum_all(id_list,dfs,columns)\n",
    "greedy_means = sum_greedy(dfs,columns,norms)"
   ]
  },
  {
   "cell_type": "code",
   "execution_count": 52,
   "metadata": {},
   "outputs": [
    {
     "name": "stdout",
     "output_type": "stream",
     "text": [
      "[duration_norm     1.000000\n",
      "distance_norm     0.709376\n",
      "emission_norm     0.567145\n",
      "price_norm        0.043635\n",
      "duration         21.961029\n",
      "distance         16.212132\n",
      "emission         10.105110\n",
      "price            32.766029\n",
      "dtype: float64, duration_norm     0.513583\n",
      "distance_norm     1.000000\n",
      "emission_norm     0.813312\n",
      "price_norm        0.379741\n",
      "duration         50.183939\n",
      "distance         13.198418\n",
      "emission          3.914662\n",
      "price            21.302841\n",
      "dtype: float64, duration_norm     0.356574\n",
      "distance_norm     0.964082\n",
      "emission_norm     1.000000\n",
      "price_norm        0.524038\n",
      "duration         60.644485\n",
      "distance         13.656779\n",
      "emission          0.000000\n",
      "price            18.161121\n",
      "dtype: float64, duration_norm     0.251406\n",
      "distance_norm     0.326774\n",
      "emission_norm     0.124155\n",
      "price_norm        1.000000\n",
      "duration         67.095588\n",
      "distance         19.179654\n",
      "emission         20.690999\n",
      "price             4.000000\n",
      "dtype: float64]\n"
     ]
    }
   ],
   "source": [
    "print(greedy_means)"
   ]
  },
  {
   "cell_type": "code",
   "execution_count": 61,
   "metadata": {},
   "outputs": [],
   "source": [
    "def PDFKS(dataframe_list,best_list,sum_name):\n",
    "    \n",
    "    best_list_values = []\n",
    "    for i in range(len(sum_name)):\n",
    "        best_list_values.append(best_list[i][sum_name[i]])\n",
    "    print(best_list_values)\n",
    "    result = []\n",
    "    for i in range(len(dataframe_list)): # iterate over dataframe\n",
    "        \n",
    "        line = []\n",
    "        \n",
    "        for j in range(len(sum_name)): # iterate over raw data only len = 8\n",
    "\n",
    "            df_value = dataframe_list[i][sum_name[j]]\n",
    "\n",
    "            best_value = best_list_values[j]\n",
    "            line.append((df_value-best_value)/best_value * 100)\n",
    "            \n",
    "        result.append(line)\n",
    "    return result"
   ]
  },
  {
   "cell_type": "code",
   "execution_count": 66,
   "metadata": {},
   "outputs": [
    {
     "data": {
      "text/plain": [
       "0.0"
      ]
     },
     "execution_count": 66,
     "metadata": {},
     "output_type": "execute_result"
    }
   ],
   "source": [
    "df['emission'].min()"
   ]
  },
  {
   "cell_type": "code",
   "execution_count": 62,
   "metadata": {},
   "outputs": [
    {
     "name": "stdout",
     "output_type": "stream",
     "text": [
      "[21.961029411764706, 13.198418181818182, 0.0, 4.0]\n"
     ]
    },
    {
     "name": "stderr",
     "output_type": "stream",
     "text": [
      "C:\\Users\\camil\\AppData\\Local\\Temp\\ipykernel_15396\\814502669.py:18: RuntimeWarning: divide by zero encountered in scalar divide\n",
      "  line.append((df_value-best_value)/best_value * 100)\n",
      "C:\\Users\\camil\\AppData\\Local\\Temp\\ipykernel_15396\\814502669.py:18: RuntimeWarning: invalid value encountered in scalar divide\n",
      "  line.append((df_value-best_value)/best_value * 100)\n"
     ]
    }
   ],
   "source": [
    "#sum_name = ['crimes','accidents','nature','attractions','duration','traffic','length','polution']\n",
    "\n",
    "sum_name = [\"duration\",\"distance\",\"emission\",\"price\"]\n",
    "\n",
    "result = PDFKS(mean+greedy_means,greedy_means,sum_name)"
   ]
  },
  {
   "cell_type": "code",
   "execution_count": 69,
   "metadata": {},
   "outputs": [
    {
     "name": "stdout",
     "output_type": "stream",
     "text": [
      "688.6987561274509\n",
      "354.02803308823525\n",
      "671.6014828431372\n",
      "264.37974264705883\n",
      "719.1507352941177\n",
      "432.5710303030302\n",
      "354.02803308823525\n",
      "0.0\n"
     ]
    }
   ],
   "source": [
    "for i in result:\n",
    "    print(i[3])"
   ]
  },
  {
   "cell_type": "markdown",
   "metadata": {},
   "source": [
    "# PDFKS Heat Map Plot & Histogram"
   ]
  },
  {
   "cell_type": "code",
   "execution_count": 43,
   "metadata": {},
   "outputs": [],
   "source": [
    "def heatmap(data, row_labels, col_labels, ax=None,\n",
    "            cbar_kw=None, cbarlabel=\"\", **kwargs):\n",
    "\n",
    "    if ax is None:\n",
    "        ax = plt.gca()\n",
    "\n",
    "    if cbar_kw is None:\n",
    "        cbar_kw = {}\n",
    "\n",
    "    # Plot the heatmap\n",
    "    im = ax.imshow(data, **kwargs)\n",
    "\n",
    "    # Create colorbar\n",
    "    \n",
    "    cbar = ax.figure.colorbar(im, ax=ax, **cbar_kw)\n",
    "    cbar.ax.set_ylabel(cbarlabel, rotation=-90, va=\"bottom\")\n",
    "\n",
    "    # Show all ticks and label them with the respective list entries.\n",
    "    ax.set_xticks(np.arange(data.shape[1]), labels=col_labels)\n",
    "    ax.set_yticks(np.arange(data.shape[0]), labels=row_labels)\n",
    "\n",
    "    # Let the horizontal axes labeling appear on top.\n",
    "    ax.tick_params(top=False, bottom=True,\n",
    "                   labeltop=False, labelbottom=True)\n",
    "\n",
    "    # Rotate the tick labels and set their alignment.\n",
    "    plt.setp(ax.get_xticklabels(), rotation=90, ha=\"right\",\n",
    "             rotation_mode=\"anchor\")\n",
    "\n",
    "    # Turn spines off and create white grid.\n",
    "    ax.spines[:].set_visible(False)\n",
    "\n",
    "    ax.set_xticks(np.arange(data.shape[1]+1)-.5, minor=True)\n",
    "    ax.set_yticks(np.arange(data.shape[0]+1)-.5, minor=True)\n",
    "    ax.grid(which=\"minor\", color=\"w\", linestyle='-', linewidth=3)\n",
    "    ax.tick_params(which=\"minor\", bottom=False, left=False)\n",
    "\n",
    "    return im, cbar\n",
    "\n",
    "\n",
    "def annotate_heatmap(im, data=None, valfmt=\"{x:.2f}\",\n",
    "                     textcolors=(\"black\", \"white\"),\n",
    "                     threshold=None, **textkw):\n",
    "\n",
    "    if not isinstance(data, (list, np.ndarray)):\n",
    "        data = im.get_array()\n",
    "\n",
    "    # Normalize the threshold to the images color range.\n",
    "    if threshold is not None:\n",
    "        threshold = im.norm(threshold)\n",
    "    else:\n",
    "        threshold = im.norm(data.max())/2.\n",
    "\n",
    "    # Set default alignment to center, but allow it to be\n",
    "    # overwritten by textkw.\n",
    "    kw = dict(horizontalalignment=\"center\",\n",
    "              verticalalignment=\"center\")\n",
    "    kw.update(textkw)\n",
    "\n",
    "    # Get the formatter in case a string is supplied\n",
    "    if isinstance(valfmt, str):\n",
    "        valfmt = matplotlib.ticker.StrMethodFormatter(valfmt)\n",
    "\n",
    "    # Loop over the data and create a `Text` for each \"pixel\".\n",
    "    # Change the text's color depending on the data.\n",
    "    texts = []\n",
    "    for i in range(data.shape[0]):\n",
    "        for j in range(data.shape[1]):\n",
    "            kw.update(color=textcolors[int(im.norm(data[i, j]) > threshold)])\n",
    "            text = im.axes.text(j, i, valfmt(data[i, j], None), **kw)\n",
    "            texts.append(text)\n",
    "\n",
    "    return texts"
   ]
  },
  {
   "cell_type": "code",
   "execution_count": 44,
   "metadata": {},
   "outputs": [
    {
     "name": "stderr",
     "output_type": "stream",
     "text": [
      "<__array_function__ internals>:200: UserWarning: Warning: converting a masked element to nan.\n",
      "c:\\Users\\camil\\AppData\\Local\\Programs\\Python\\Python311\\Lib\\site-packages\\matplotlib\\colors.py:1311: UserWarning: Warning: converting a masked element to nan.\n",
      "  data = np.asarray(value)\n",
      "c:\\Users\\camil\\AppData\\Local\\Programs\\Python\\Python311\\Lib\\site-packages\\matplotlib\\ticker.py:374: FutureWarning: Format strings passed to MaskedConstant are ignored, but in future may error or produce different behavior\n",
      "  return self.fmt.format(x=x, pos=pos)\n"
     ]
    },
    {
     "data": {
      "image/png": "[encoded data removed]",
      "text/plain": [
       "<Figure size 1280x720 with 2 Axes>"
      ]
     },
     "metadata": {},
     "output_type": "display_data"
    }
   ],
   "source": [
    "#profiles = ['worker','green','safe','tourist','onlyCrimes','onlyAccidents','onlyNature','onlyAttractions',\n",
    "#            'onlyDuration','onlyTraffic','onlyLength','onlyPolution']\n",
    "\n",
    "#features = ['crimes','accidents','nature','attractions','duration','traffic','length','polution']\n",
    "\n",
    "profiles = [\"worker\",\"green\",\"safe\",\"tourist\",\"onlyduration\",\"onlydistance\",\"onlyemission\",\"onlyprice\"]\n",
    "\n",
    "features = [\"duration\",\"distance\",\"emission\",\"price\"]\n",
    "\n",
    "result_np = np.array(result)\n",
    "\n",
    "fig, ax = plt.subplots(figsize=(16,9),dpi=80)\n",
    "\n",
    "im, cbar = heatmap(result_np, profiles, features, ax=ax,\n",
    "                   cmap=\"YlGn\", cbarlabel=\"PDFKS Value\",vmin=-100, vmax=100)\n",
    "texts = annotate_heatmap(im, valfmt=\"{x:.1f}\")\n",
    "\n",
    "fig.tight_layout()\n",
    "plt.show()"
   ]
  },
  {
   "cell_type": "code",
   "execution_count": 45,
   "metadata": {},
   "outputs": [
    {
     "ename": "OverflowError",
     "evalue": "cannot convert float infinity to integer",
     "output_type": "error",
     "traceback": [
      "\u001b[1;31m---------------------------------------------------------------------------\u001b[0m",
      "\u001b[1;31mOverflowError\u001b[0m                             Traceback (most recent call last)",
      "\u001b[1;32mc:\\Users\\camil\\Desktop\\chicago_routing\\route_eval.ipynb Cell 16\u001b[0m line \u001b[0;36m1\n\u001b[0;32m      <a href='vscode-notebook-cell:/c%3A/Users/camil/Desktop/chicago_routing/route_eval.ipynb#X21sZmlsZQ%3D%3D?line=5'>6</a>\u001b[0m     result_sum\u001b[39m.\u001b[39mappend(res)\n\u001b[0;32m      <a href='vscode-notebook-cell:/c%3A/Users/camil/Desktop/chicago_routing/route_eval.ipynb#X21sZmlsZQ%3D%3D?line=7'>8</a>\u001b[0m x \u001b[39m=\u001b[39m \u001b[39mlist\u001b[39m(\u001b[39mzip\u001b[39m(profiles,result_sum))\n\u001b[1;32m---> <a href='vscode-notebook-cell:/c%3A/Users/camil/Desktop/chicago_routing/route_eval.ipynb#X21sZmlsZQ%3D%3D?line=9'>10</a>\u001b[0m sorted_result \u001b[39m=\u001b[39m \u001b[39msorted\u001b[39;49m(x,key\u001b[39m=\u001b[39;49m\u001b[39mlambda\u001b[39;49;00m x: \u001b[39mint\u001b[39;49m(x[\u001b[39m1\u001b[39;49m]))\n\u001b[0;32m     <a href='vscode-notebook-cell:/c%3A/Users/camil/Desktop/chicago_routing/route_eval.ipynb#X21sZmlsZQ%3D%3D?line=11'>12</a>\u001b[0m profiles_names \u001b[39m=\u001b[39m []\n\u001b[0;32m     <a href='vscode-notebook-cell:/c%3A/Users/camil/Desktop/chicago_routing/route_eval.ipynb#X21sZmlsZQ%3D%3D?line=12'>13</a>\u001b[0m values \u001b[39m=\u001b[39m []\n",
      "\u001b[1;32mc:\\Users\\camil\\Desktop\\chicago_routing\\route_eval.ipynb Cell 16\u001b[0m line \u001b[0;36m1\n\u001b[0;32m      <a href='vscode-notebook-cell:/c%3A/Users/camil/Desktop/chicago_routing/route_eval.ipynb#X21sZmlsZQ%3D%3D?line=5'>6</a>\u001b[0m     result_sum\u001b[39m.\u001b[39mappend(res)\n\u001b[0;32m      <a href='vscode-notebook-cell:/c%3A/Users/camil/Desktop/chicago_routing/route_eval.ipynb#X21sZmlsZQ%3D%3D?line=7'>8</a>\u001b[0m x \u001b[39m=\u001b[39m \u001b[39mlist\u001b[39m(\u001b[39mzip\u001b[39m(profiles,result_sum))\n\u001b[1;32m---> <a href='vscode-notebook-cell:/c%3A/Users/camil/Desktop/chicago_routing/route_eval.ipynb#X21sZmlsZQ%3D%3D?line=9'>10</a>\u001b[0m sorted_result \u001b[39m=\u001b[39m \u001b[39msorted\u001b[39m(x,key\u001b[39m=\u001b[39m\u001b[39mlambda\u001b[39;00m x: \u001b[39mint\u001b[39;49m(x[\u001b[39m1\u001b[39;49m]))\n\u001b[0;32m     <a href='vscode-notebook-cell:/c%3A/Users/camil/Desktop/chicago_routing/route_eval.ipynb#X21sZmlsZQ%3D%3D?line=11'>12</a>\u001b[0m profiles_names \u001b[39m=\u001b[39m []\n\u001b[0;32m     <a href='vscode-notebook-cell:/c%3A/Users/camil/Desktop/chicago_routing/route_eval.ipynb#X21sZmlsZQ%3D%3D?line=12'>13</a>\u001b[0m values \u001b[39m=\u001b[39m []\n",
      "\u001b[1;31mOverflowError\u001b[0m: cannot convert float infinity to integer"
     ]
    }
   ],
   "source": [
    "result_sum = []\n",
    "for i in result:\n",
    "    res = 0\n",
    "    for j in i:\n",
    "        res += abs(j)\n",
    "    result_sum.append(res)\n",
    "    \n",
    "x = list(zip(profiles,result_sum))\n",
    "\n",
    "sorted_result = sorted(x,key=lambda x: int(x[1]))\n",
    "\n",
    "profiles_names = []\n",
    "values = []\n",
    "for (i,j) in sorted_result:\n",
    "    profiles_names.append(i)\n",
    "    values.append(j)"
   ]
  },
  {
   "cell_type": "code",
   "execution_count": 32,
   "metadata": {},
   "outputs": [
    {
     "ename": "NameError",
     "evalue": "name 'profiles_names' is not defined",
     "output_type": "error",
     "traceback": [
      "\u001b[1;31m---------------------------------------------------------------------------\u001b[0m",
      "\u001b[1;31mNameError\u001b[0m                                 Traceback (most recent call last)",
      "\u001b[1;32mc:\\Users\\camil\\Desktop\\chicago_routing\\route_eval.ipynb Cell 17\u001b[0m line \u001b[0;36m4\n\u001b[0;32m      <a href='vscode-notebook-cell:/c%3A/Users/camil/Desktop/chicago_routing/route_eval.ipynb#X22sZmlsZQ%3D%3D?line=0'>1</a>\u001b[0m plt\u001b[39m.\u001b[39mrcdefaults()\n\u001b[0;32m      <a href='vscode-notebook-cell:/c%3A/Users/camil/Desktop/chicago_routing/route_eval.ipynb#X22sZmlsZQ%3D%3D?line=1'>2</a>\u001b[0m fig, ax \u001b[39m=\u001b[39m plt\u001b[39m.\u001b[39msubplots()\n\u001b[1;32m----> <a href='vscode-notebook-cell:/c%3A/Users/camil/Desktop/chicago_routing/route_eval.ipynb#X22sZmlsZQ%3D%3D?line=3'>4</a>\u001b[0m ax\u001b[39m.\u001b[39mbarh(profiles_names, values, align\u001b[39m=\u001b[39m\u001b[39m'\u001b[39m\u001b[39mcenter\u001b[39m\u001b[39m'\u001b[39m)\n\u001b[0;32m      <a href='vscode-notebook-cell:/c%3A/Users/camil/Desktop/chicago_routing/route_eval.ipynb#X22sZmlsZQ%3D%3D?line=4'>5</a>\u001b[0m ax\u001b[39m.\u001b[39mset_yticks(profiles_names, labels\u001b[39m=\u001b[39mprofiles_names)\n\u001b[0;32m      <a href='vscode-notebook-cell:/c%3A/Users/camil/Desktop/chicago_routing/route_eval.ipynb#X22sZmlsZQ%3D%3D?line=5'>6</a>\u001b[0m ax\u001b[39m.\u001b[39minvert_yaxis()  \u001b[39m# labels read top-to-bottom\u001b[39;00m\n",
      "\u001b[1;31mNameError\u001b[0m: name 'profiles_names' is not defined"
     ]
    },
    {
     "data": {
      "image/png": "[encoded data removed]",
      "text/plain": [
       "<Figure size 640x480 with 1 Axes>"
      ]
     },
     "metadata": {},
     "output_type": "display_data"
    }
   ],
   "source": [
    "plt.rcdefaults()\n",
    "fig, ax = plt.subplots()\n",
    "\n",
    "ax.barh(profiles_names, values, align='center')\n",
    "ax.set_yticks(profiles_names, labels=profiles_names)\n",
    "ax.invert_yaxis()  # labels read top-to-bottom\n",
    "ax.set_xlabel('Absolute sum [%]')\n",
    "ax.set_ylabel('Classification method')\n",
    "\n",
    "plt.show()"
   ]
  },
  {
   "cell_type": "code",
   "execution_count": 33,
   "metadata": {},
   "outputs": [
    {
     "data": {
      "image/png": "[encoded data removed]",
      "text/plain": [
       "<Figure size 640x480 with 1 Axes>"
      ]
     },
     "metadata": {},
     "output_type": "display_data"
    }
   ],
   "source": [
    "#features = ['crimes','accidents','nature','attractions','duration','traffic','length','polution']\n",
    "#profile = ['Worker', 'Green', 'Safe', 'Tourist']\n",
    "#best_values = [507757.105634,126.691275,809605.474893,4.756345,1967.288732,0.826151,15745.302817,28.212792]\n",
    "\n",
    "#criminality\n",
    "fig, ax = plt.subplots()\n",
    "\n",
    "profile = ['Worker', 'Green', 'Safe', 'Tourist']\n",
    "value = [585863.605634, 592358.915493, 526048.500000, 651023.119718]\n",
    "\n",
    "ax.bar(profile, value)\n",
    "\n",
    "ax.axhline(y = 507757.105634, color = 'r', linestyle = '--', label = \"Best Value\")\n",
    "ax.set_ylabel('Crime occurance')\n",
    "ax.set_title('Average Crime occurance for each profile')\n",
    "\n",
    "plt.show()"
   ]
  },
  {
   "cell_type": "code",
   "execution_count": null,
   "metadata": {},
   "outputs": [],
   "source": [
    "## multiple other plots "
   ]
  }
 ],
 "metadata": {
  "kernelspec": {
   "display_name": "Python 3",
   "language": "python",
   "name": "python3"
  },
  "language_info": {
   "codemirror_mode": {
    "name": "ipython",
    "version": 3
   },
   "file_extension": ".py",
   "mimetype": "text/x-python",
   "name": "python",
   "nbconvert_exporter": "python",
   "pygments_lexer": "ipython3",
   "version": "3.11.3"
  }
 },
 "nbformat": 4,
 "nbformat_minor": 2
}
