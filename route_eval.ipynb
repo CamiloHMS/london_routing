{
 "cells": [
  {
   "cell_type": "code",
   "execution_count": 31,
   "metadata": {},
   "outputs": [],
   "source": [
    "from pyDecision.algorithm import ahp_method\n",
    "import matplotlib.pyplot as plt\n",
    "import matplotlib\n",
    "import pandas as pd\n",
    "import numpy as np"
   ]
  },
  {
   "cell_type": "code",
   "execution_count": 32,
   "metadata": {},
   "outputs": [],
   "source": [
    "df = pd.read_csv(\"results/filtered_responses.csv\")"
   ]
  },
  {
   "cell_type": "code",
   "execution_count": 33,
   "metadata": {},
   "outputs": [],
   "source": [
    "def AHP(matrix,derivation=\"geometric\"):\n",
    "    #weights\n",
    "    weights,rc = ahp_method(matrix,wd=derivation)\n",
    "\n",
    "    for i in range (0, weights.shape[0]):\n",
    "        print ('w_w(feature '+str(i+1)+'): ',round(weights[i],3))\n",
    "\n",
    "    #consistency ratio\n",
    "    print('RC: ' + str(round(rc, 2)))\n",
    "    if (rc > 0.1):\n",
    "        print('The solution is inconsistent, pairwise comparison must be reviewed')\n",
    "    else:\n",
    "        print('The solution is consistent')\n",
    "\n",
    "    return weights"
   ]
  },
  {
   "cell_type": "code",
   "execution_count": 34,
   "metadata": {},
   "outputs": [],
   "source": [
    "# decision matrix \n",
    "modal_decision_worker = [[1,3,9,6],[0.33,1,8,3],[0.11,0.12,1,0.2],[0.17,0.33,5,1]]\n",
    "modal_decision_green = [[1,0.33,0.11,3],[3,1,0.17,5],[9,6,1,9],[0.33,0.2,0.11,1]]\n",
    "modal_decision_safe = [[1,2,6,6],[0.50,1,6,5],[0.17,0.17,1,0.50],[0.17,0.20,2,1]]\n",
    "modal_decision_tourist = [[1,0.50,0.50,0.17],[2,1,3,1],[2,0.33,1,0.20],[6,1,5,1]]"
   ]
  },
  {
   "cell_type": "code",
   "execution_count": 35,
   "metadata": {},
   "outputs": [
    {
     "name": "stdout",
     "output_type": "stream",
     "text": [
      "Worker\n",
      "w_w(feature 1):  0.575\n",
      "w_w(feature 2):  0.271\n",
      "w_w(feature 3):  0.037\n",
      "w_w(feature 4):  0.117\n",
      "RC: 0.07\n",
      "The solution is consistent\n",
      "\n",
      "Green\n",
      "w_w(feature 1):  0.084\n",
      "w_w(feature 2):  0.185\n",
      "w_w(feature 3):  0.688\n",
      "w_w(feature 4):  0.043\n",
      "RC: 0.08\n",
      "The solution is consistent\n",
      "\n",
      "Safe\n",
      "w_w(feature 1):  0.508\n",
      "w_w(feature 2):  0.343\n",
      "w_w(feature 3):  0.06\n",
      "w_w(feature 4):  0.089\n",
      "RC: 0.04\n",
      "The solution is consistent\n",
      "\n",
      "Tourist\n",
      "w_w(feature 1):  0.091\n",
      "w_w(feature 2):  0.315\n",
      "w_w(feature 3):  0.121\n",
      "w_w(feature 4):  0.472\n",
      "RC: 0.07\n",
      "The solution is consistent\n"
     ]
    }
   ],
   "source": [
    "print('Worker')\n",
    "weights_w = AHP(modal_decision_worker)\n",
    "print('\\nGreen')\n",
    "weights_g = AHP(modal_decision_green)\n",
    "print('\\nSafe')\n",
    "weights_s = AHP(modal_decision_safe)\n",
    "print('\\nTourist')\n",
    "weights_t = AHP(modal_decision_tourist)"
   ]
  },
  {
   "cell_type": "code",
   "execution_count": 36,
   "metadata": {},
   "outputs": [],
   "source": [
    "def evaluate_routes(routes, weights_w, columns):\n",
    "    routes_parameters = routes[columns[1:]]\n",
    "    results_array = []\n",
    "    result = 0\n",
    "    for route in routes_parameters.iterrows(): # iterrows !!!\n",
    "        result = np.multiply(np.array(route[1]), np.array(weights_w))\n",
    "        results_array.append(np.sum(result))\n",
    "    return results_array\n",
    "\n",
    "def evaluate_all(weight_list,dataframe_list,columns):\n",
    "    result = []\n",
    "    for i in weight_list:\n",
    "        result.append([])\n",
    "    \n",
    "    for w in range(len(weight_list)):\n",
    "        for df in dataframe_list:\n",
    "            result[w].append(evaluate_routes(df,weight_list[w],columns))\n",
    "    return result\n",
    "\n",
    "def Id_SetId(result_list,dataframe_list):\n",
    "    id_list = []\n",
    "    for i in result_list:\n",
    "        id_list.append([])\n",
    "    \n",
    "    for result in range(len(result_list)):\n",
    "        #for weight in result_list[result]:\n",
    "        for weight in range(len(result_list[result])):\n",
    "            \n",
    "            max_value = max(result_list[result][weight])\n",
    "            max_index = result_list[result][weight].index(max_value)\n",
    "            df = dataframe_list[weight].loc[max_index]\n",
    "            id_list[result].append([max_value,df['index'],df['setID']])\n",
    "    return id_list"
   ]
  },
  {
   "cell_type": "code",
   "execution_count": 37,
   "metadata": {},
   "outputs": [
    {
     "name": "stdout",
     "output_type": "stream",
     "text": [
      "Numbers of OD 2 pairs: 136\n"
     ]
    }
   ],
   "source": [
    "dfs = []\n",
    "for i in range(int(df['setID'].max())): # df.['setID'].unique()\n",
    "    x = df.loc[df['setID'] == i]\n",
    "    if x.empty or x.isnull().values.any():\n",
    "        continue\n",
    "    x = x.reset_index()\n",
    "    dfs.append(x)\n",
    "print(\"Numbers of OD 2 pairs:\",len(dfs))"
   ]
  },
  {
   "cell_type": "code",
   "execution_count": 38,
   "metadata": {},
   "outputs": [],
   "source": [
    "columns = ['index','duration_norm', 'distance_norm', 'emission_norm', 'price_norm']\n",
    "\n",
    "weight_list = [weights_w,weights_g,weights_s,weights_t]\n",
    "r = evaluate_all(weight_list,dfs,columns)\n",
    "id_list = Id_SetId(r,dfs)"
   ]
  },
  {
   "cell_type": "code",
   "execution_count": 39,
   "metadata": {},
   "outputs": [],
   "source": [
    "def sum_all(id_list,dataframe_list,columns):\n",
    "    \n",
    "    means = []\n",
    "    \n",
    "    for i in range(len(id_list)):\n",
    "        \n",
    "        mean_df = pd.DataFrame(columns=columns)\n",
    "        \n",
    "        for j in range(len(dataframe_list)):\n",
    "            #x = dfs[0].loc[dfs[0]['ID'] == id_list[0][0][1]]\n",
    "            mean_df = pd.concat([mean_df,dataframe_list[j].loc[dataframe_list[j]['index'] == id_list[i][j][1]]],join='inner')\n",
    "        means.append(mean_df.mean())\n",
    "        \n",
    "    return means\n",
    "\n",
    "def sum_greedy(dataframe_list,columns,norms):\n",
    "    \n",
    "    greedy_means = []\n",
    "    \n",
    "    for i in norms:\n",
    "        \n",
    "        mean_df = pd.DataFrame(columns=columns)\n",
    "        \n",
    "        for j in range(len(dataframe_list)):\n",
    "            \n",
    "            mean_df = pd.concat([mean_df, dataframe_list[j].loc[dataframe_list[j][i] == 1]],join='inner')\n",
    "            \n",
    "        greedy_means.append(mean_df.mean())\n",
    "    \n",
    "    return greedy_means"
   ]
  },
  {
   "cell_type": "code",
   "execution_count": 40,
   "metadata": {},
   "outputs": [],
   "source": [
    "#columns = [\"crimeNorm\",\"accidentNorm\",\"natureNorm\",\"attractionNorm\",\"durationNorm\",\"trafficNorm\",\"lengthNorm\",\"crimes\",\n",
    "#           \"accidents\",\"attractions\",\"nature\",\"traffic\",\"duration\",\"length\",\"polution\",\"polutionNorm\"]\n",
    "\n",
    "#norms = [\"crimeNorm\",\"accidentNorm\",\"natureNorm\",\"attractionNorm\",\"durationNorm\",\"trafficNorm\",\"lengthNorm\",\"polutionNorm\"]\n",
    "\n",
    "columns = [\"duration\",\"distance\",\"emission\",\"price\",\"duration_norm\",\"distance_norm\",\"emission_norm\",\"price_norm\"]\n",
    "\n",
    "norms = [\"duration_norm\",\"distance_norm\",\"emission_norm\",\"price_norm\"]\n",
    "\n",
    "mean = sum_all(id_list,dfs,columns)\n",
    "greedy_means = sum_greedy(dfs,columns,norms)"
   ]
  },
  {
   "cell_type": "code",
   "execution_count": 43,
   "metadata": {},
   "outputs": [],
   "source": [
    "def PDFKS(dataframe_list,best_list,sum_name):\n",
    "    \n",
    "    best_list_values = []\n",
    "    for i in range(len(sum_name)):\n",
    "        best_list_values.append(best_list[i][sum_name[i]])\n",
    "\n",
    "    result = []\n",
    "    for i in range(len(dataframe_list)):\n",
    "        \n",
    "        line = []\n",
    "        \n",
    "        for j in range(len(sum_name)): # iterate over alternatives\n",
    "\n",
    "            df_value = dataframe_list[i][sum_name[j]]\n",
    "\n",
    "            best_value = best_list_values[j]\n",
    "            if best_value == 0:\n",
    "                div = 1\n",
    "            else:\n",
    "                div = best_value * 100\n",
    "            line.append((df_value-best_value)/div)\n",
    "            \n",
    "        result.append(line)\n",
    "    return result"
   ]
  },
  {
   "cell_type": "code",
   "execution_count": 44,
   "metadata": {},
   "outputs": [],
   "source": [
    "#sum_name = ['crimes','accidents','nature','attractions','duration','traffic','length','polution']\n",
    "\n",
    "sum_name = [\"duration\",\"distance\",\"emission\",\"price\"]\n",
    "\n",
    "result = PDFKS(mean+greedy_means,greedy_means,sum_name)"
   ]
  },
  {
   "cell_type": "markdown",
   "metadata": {},
   "source": [
    "# PDFKS Heat Map Plot & Histogram"
   ]
  },
  {
   "cell_type": "code",
   "execution_count": 45,
   "metadata": {},
   "outputs": [],
   "source": [
    "def heatmap(data, row_labels, col_labels, ax=None,\n",
    "            cbar_kw=None, cbarlabel=\"\", **kwargs):\n",
    "\n",
    "    if ax is None:\n",
    "        ax = plt.gca()\n",
    "\n",
    "    if cbar_kw is None:\n",
    "        cbar_kw = {}\n",
    "\n",
    "    # Plot the heatmap\n",
    "    im = ax.imshow(data, **kwargs)\n",
    "\n",
    "    # Create colorbar\n",
    "    \n",
    "    cbar = ax.figure.colorbar(im, ax=ax, **cbar_kw)\n",
    "    cbar.ax.set_ylabel(cbarlabel, rotation=-90, va=\"bottom\")\n",
    "\n",
    "    # Show all ticks and label them with the respective list entries.\n",
    "    ax.set_xticks(np.arange(data.shape[1]), labels=col_labels)\n",
    "    ax.set_yticks(np.arange(data.shape[0]), labels=row_labels)\n",
    "\n",
    "    # Let the horizontal axes labeling appear on top.\n",
    "    ax.tick_params(top=False, bottom=True,\n",
    "                   labeltop=False, labelbottom=True)\n",
    "\n",
    "    # Rotate the tick labels and set their alignment.\n",
    "    plt.setp(ax.get_xticklabels(), rotation=90, ha=\"right\",\n",
    "             rotation_mode=\"anchor\")\n",
    "\n",
    "    # Turn spines off and create white grid.\n",
    "    ax.spines[:].set_visible(False)\n",
    "\n",
    "    ax.set_xticks(np.arange(data.shape[1]+1)-.5, minor=True)\n",
    "    ax.set_yticks(np.arange(data.shape[0]+1)-.5, minor=True)\n",
    "    ax.grid(which=\"minor\", color=\"w\", linestyle='-', linewidth=3)\n",
    "    ax.tick_params(which=\"minor\", bottom=False, left=False)\n",
    "\n",
    "    return im, cbar\n",
    "\n",
    "\n",
    "def annotate_heatmap(im, data=None, valfmt=\"{x:.2f}\",\n",
    "                     textcolors=(\"black\", \"white\"),\n",
    "                     threshold=None, **textkw):\n",
    "\n",
    "    if not isinstance(data, (list, np.ndarray)):\n",
    "        data = im.get_array()\n",
    "\n",
    "    # Normalize the threshold to the images color range.\n",
    "    if threshold is not None:\n",
    "        threshold = im.norm(threshold)\n",
    "    else:\n",
    "        threshold = im.norm(data.max())/2.\n",
    "\n",
    "    # Set default alignment to center, but allow it to be\n",
    "    # overwritten by textkw.\n",
    "    kw = dict(horizontalalignment=\"center\",\n",
    "              verticalalignment=\"center\")\n",
    "    kw.update(textkw)\n",
    "\n",
    "    # Get the formatter in case a string is supplied\n",
    "    if isinstance(valfmt, str):\n",
    "        valfmt = matplotlib.ticker.StrMethodFormatter(valfmt)\n",
    "\n",
    "    # Loop over the data and create a `Text` for each \"pixel\".\n",
    "    # Change the text's color depending on the data.\n",
    "    texts = []\n",
    "    for i in range(data.shape[0]):\n",
    "        for j in range(data.shape[1]):\n",
    "            kw.update(color=textcolors[int(im.norm(data[i, j]) > threshold)])\n",
    "            text = im.axes.text(j, i, valfmt(data[i, j], None), **kw)\n",
    "            texts.append(text)\n",
    "\n",
    "    return texts"
   ]
  },
  {
   "cell_type": "code",
   "execution_count": 46,
   "metadata": {},
   "outputs": [
    {
     "data": {
      "image/png": "[encoded data removed]",
      "text/plain": [
       "<Figure size 1280x720 with 2 Axes>"
      ]
     },
     "metadata": {},
     "output_type": "display_data"
    }
   ],
   "source": [
    "#profiles = ['worker','green','safe','tourist','onlyCrimes','onlyAccidents','onlyNature','onlyAttractions',\n",
    "#            'onlyDuration','onlyTraffic','onlyLength','onlyPolution']\n",
    "\n",
    "#features = ['crimes','accidents','nature','attractions','duration','traffic','length','polution']\n",
    "\n",
    "profiles = [\"worker\",\"green\",\"safe\",\"tourist\",\"onlyduration\",\"onlydistance\",\"onlyemission\",\"onlyprice\"]\n",
    "\n",
    "features = [\"duration\",\"distance\",\"emission\",\"price\"]\n",
    "\n",
    "result_np = np.array(result)\n",
    "\n",
    "fig, ax = plt.subplots(figsize=(16,9),dpi=80)\n",
    "\n",
    "im, cbar = heatmap(result_np, profiles, features, ax=ax,\n",
    "                   cmap=\"YlGn\", cbarlabel=\"PDFKS Value\",vmin=-100, vmax=100)\n",
    "texts = annotate_heatmap(im, valfmt=\"{x:.1f}\")\n",
    "\n",
    "fig.tight_layout()\n",
    "plt.show()"
   ]
  },
  {
   "cell_type": "code",
   "execution_count": 47,
   "metadata": {},
   "outputs": [],
   "source": [
    "result_sum = []\n",
    "for i in result:\n",
    "    res = 0\n",
    "    for j in i:\n",
    "        res += abs(j)\n",
    "    result_sum.append(res)\n",
    "    \n",
    "x = list(zip(profiles,result_sum))\n",
    "\n",
    "sorted_result = sorted(x,key=lambda x: int(x[1]))\n",
    "\n",
    "profiles_names = []\n",
    "values = []\n",
    "for (i,j) in sorted_result:\n",
    "    profiles_names.append(i)\n",
    "    values.append(j)"
   ]
  },
  {
   "cell_type": "code",
   "execution_count": 48,
   "metadata": {},
   "outputs": [
    {
     "data": {
      "image/png": "[encoded data removed]",
      "text/plain": [
       "<Figure size 640x480 with 1 Axes>"
      ]
     },
     "metadata": {},
     "output_type": "display_data"
    }
   ],
   "source": [
    "plt.rcdefaults()\n",
    "fig, ax = plt.subplots()\n",
    "\n",
    "ax.barh(profiles_names, values, align='center')\n",
    "ax.set_yticks(profiles_names, labels=profiles_names)\n",
    "ax.invert_yaxis()  # labels read top-to-bottom\n",
    "ax.set_xlabel('Absolute sum [%]')\n",
    "ax.set_ylabel('Classification method')\n",
    "\n",
    "plt.show()"
   ]
  },
  {
   "cell_type": "code",
   "execution_count": 49,
   "metadata": {},
   "outputs": [
    {
     "data": {
      "text/plain": [
       "'\\nfig, ax = plt.subplots()\\n\\nprofile = [\\'Worker\\', \\'Green\\', \\'Safe\\', \\'Tourist\\']\\nvalue = [585863.605634, 592358.915493, 526048.500000, 651023.119718]\\n\\nax.bar(profile, value)\\n\\nax.axhline(y = 507757.105634, color = \\'r\\', linestyle = \\'--\\', label = \"Best Value\")\\nax.set_ylabel(\\'Crime occurance\\')\\nax.set_title(\\'Average Crime occurance for each profile\\')\\n\\nplt.show()\\n'"
      ]
     },
     "execution_count": 49,
     "metadata": {},
     "output_type": "execute_result"
    }
   ],
   "source": [
    "#features = ['crimes','accidents','nature','attractions','duration','traffic','length','polution']\n",
    "#profile = ['Worker', 'Green', 'Safe', 'Tourist']\n",
    "#best_values = [507757.105634,126.691275,809605.474893,4.756345,1967.288732,0.826151,15745.302817,28.212792]\n",
    "\n",
    "#criminality\n",
    "\"\"\"\n",
    "fig, ax = plt.subplots()\n",
    "\n",
    "profile = ['Worker', 'Green', 'Safe', 'Tourist']\n",
    "value = [585863.605634, 592358.915493, 526048.500000, 651023.119718]\n",
    "\n",
    "ax.bar(profile, value)\n",
    "\n",
    "ax.axhline(y = 507757.105634, color = 'r', linestyle = '--', label = \"Best Value\")\n",
    "ax.set_ylabel('Crime occurance')\n",
    "ax.set_title('Average Crime occurance for each profile')\n",
    "\n",
    "plt.show()\n",
    "\"\"\""
   ]
  }
 ],
 "metadata": {
  "kernelspec": {
   "display_name": "Python 3",
   "language": "python",
   "name": "python3"
  },
  "language_info": {
   "codemirror_mode": {
    "name": "ipython",
    "version": 3
   },
   "file_extension": ".py",
   "mimetype": "text/x-python",
   "name": "python",
   "nbconvert_exporter": "python",
   "pygments_lexer": "ipython3",
   "version": "3.11.3"
  }
 },
 "nbformat": 4,
 "nbformat_minor": 2
}
