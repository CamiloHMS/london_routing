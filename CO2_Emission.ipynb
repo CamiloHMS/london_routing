{
 "cells": [
  {
   "cell_type": "markdown",
   "id": "7b675390",
   "metadata": {},
   "source": [
    "# Cálculos para determinação de emissões de CO2\n",
    "# Método top-down:\n",
    "Os cálculos para a emissão de CO2 abaixo seguem o método [\"top-down\"](https://www.sinaldetransito.com.br/artigos/gases_efeito_estufa.pdf) recomendado pelo Ministério das Minas e Energia (MME) desde 1999 no Balanço Energético Nacional (BEN).\n",
    "\n",
    "Outro artigo que agrega aos cálculos de emissão de GEEs por fontes móveis [aqui](https://cetesb.sp.gov.br/proclima/wp-content/uploads/sites/36/2004/05/FM-2003-2004-PB.pdf).\n",
    "\n",
    "Novos fatores de conversão disponíveis no Anuário Estatístico de 2021 da Agência Nacional do Petróleo, Gás Natural e Biocombustíveis [aqui](https://www.gov.br/anp/pt-br/centrais-de-conteudo/publicacoes/anuario-estatistico/arquivos-anuario-estatistico-2021/outras-pecas-documentais/fatores-de-conversao-2021.pdf). # desconsiderar (fator de conversão somente em bep)\n",
    "\n",
    "Novos fatores de conversão de quantidade de combustível para tonelada equivalente de petróleo (tEP) de acordo com o Balanço Energético Nacional 2021 (BEN2021) [aqui](https://www.epe.gov.br/sites-pt/publicacoes-dados-abertos/publicacoes/PublicacoesArquivos/publicacao-578/NT.EPE.DEA.SEE.005.2021%20-%20BEN%20_%20Manual%202020_vf.pdf). # link não existe mais\n",
    "\n",
    "BEN 2021 [completo](https://www.epe.gov.br/sites-pt/publicacoes-dados-abertos/publicacoes/PublicacoesArquivos/publicacao-601/topico-596/BEN2021.pdf)."
   ]
  },
  {
   "cell_type": "code",
   "execution_count": 4,
   "id": "7d1f9d2c",
   "metadata": {},
   "outputs": [
    {
     "name": "stdout",
     "output_type": "stream",
     "text": [
      "0.0458264268\n"
     ]
    }
   ],
   "source": [
    "import math\n",
    "\n",
    "#Conversão para unidade comum:\n",
    "# CA = consumo de combustível (m³)\n",
    "# Fconv = fator de conversão da unidade física (tEP/m³)\n",
    "# Fcorr = fator de correção de PCS (Poder calórico Superior) para PCI (Poder calórico inferiro)\n",
    "\n",
    "def Energy_Consumption(CA,Fconv,Fcorr):\n",
    "    Fconv_value = \"\"\n",
    "    Fcorr_value = \"\"\n",
    "    F1_values = [[\"gasoline\",0.770],[\"anhydrous alcohol\",0.534],[\"hydrated alcohol\",0.510],[\"diesel\",0.848],[\"dry gas\",0.880]] #Fconv\n",
    "    F2_values = [[\"solid_liquid\",0.95],[\"gas\",0.90]] #Fcorr\n",
    "    for i in F1_values:\n",
    "        if i[0] == Fconv:\n",
    "            Fconv_value = i[1]\n",
    "    for i in F2_values:\n",
    "        if i[0] == Fcorr:\n",
    "            Fcorr_value = i[1]\n",
    "    CC = CA * Fconv_value * Fcorr_value * 45.2 * math.pow(10,-3)\n",
    "    return CC\n",
    "    \n",
    "    \n",
    "#Conteúdo de carbono\n",
    "# CC = consumo de energia (TJ - tera-joule / 1 tj = 10¹²j)\n",
    "# Femiss = fator de emissão de carbono (tC/TJ - tonelada de C por tera-joule)\n",
    "def Carbon_Emission(CC,Femiss):\n",
    "    Femiss_value = \"\"\n",
    "    F_values = [[\"gasoline\",18.9],[\"anhydrous alcohol\",14.81],[\"hydrated alcohol\",14.81],[\"diesel\",20.2],[\"dry gas\",15.3]] #Femiss\n",
    "    for i in F_values:\n",
    "        if i[0] == Femiss:\n",
    "            Femiss_value = i[1]\n",
    "    QC =  CC * Femiss_value * math.pow(10,-3)\n",
    "    return QC\n",
    "    \n",
    "    \n",
    "#Emissões de CO2 em tCO2 (tonelada de CO2)\n",
    "# EC = emissão/conteúdo de carbono em GgC (Giga grama de Carbono - 1 GgC = 1000 toneladas de Carbono)\n",
    "# 1t CO2 = 0,2727 tC\n",
    "# 44/12 = conversão entre os pesos moleculares\n",
    "def CO2_Emission(EC):\n",
    "    ECO2 = (EC * 44 / 12) * 1000 * 1000 # tonelada para kilograma\n",
    "    return ECO2\n",
    "\n",
    "# considerando que 8km = 1l combustível consumido\n",
    "\n",
    "#carro 8km - 1l\n",
    "#onibus 2,5km - 1l\n",
    "# 1 km = 0,19 kg CO2"
   ]
  },
  {
   "cell_type": "code",
   "execution_count": 3,
   "id": "d605d9f9",
   "metadata": {},
   "outputs": [
    {
     "name": "stdout",
     "output_type": "stream",
     "text": [
      "4.58264268e-05\n"
     ]
    }
   ],
   "source": [
    "def energy_consumption(CA,Fconv,Fcorr):\n",
    "    Fconv_value = \"\"\n",
    "    Fcorr_value = \"\"\n",
    "    F1_values = [[\"gasoline\",0.770],[\"anhydrous alcohol\",0.534],[\"hydrated alcohol\",0.510],[\"diesel\",0.848],[\"dry gas\",0.880]] #Fconv\n",
    "    F2_values = [[\"solid_liquid\",0.95],[\"gas\",0.90]] #Fcorr\n",
    "    for i in F1_values:\n",
    "        if i[0] == Fconv:\n",
    "            Fconv_value = i[1]\n",
    "    for i in F2_values:\n",
    "        if i[0] == Fcorr:\n",
    "            Fcorr_value = i[1]\n",
    "    CC = CA * Fconv_value * Fcorr_value * 45.2 * math.pow(10,-3)\n",
    "    return CC\n",
    "\n",
    "\n",
    "def carbon_emission(CC,Femiss):\n",
    "    Femiss_value = \"\"\n",
    "    F_values = [[\"gasoline\",18.9],[\"anhydrous alcohol\",14.81],[\"hydrated alcohol\",14.81],[\"diesel\",20.2],[\"dry gas\",15.3]] #Femiss\n",
    "    for i in F_values:\n",
    "        if i[0] == Femiss:\n",
    "            Femiss_value = i[1]\n",
    "    QC =  CC * Femiss_value * math.pow(10,-3)\n",
    "    return QC\n",
    "\n",
    "def co2_Emission(EC):\n",
    "    ECO2 = (EC * 44 / 12) * 1000 * 1000 # para retornar em Kg\n",
    "    return ECO2\n",
    "\n",
    "def gcc_emission(CA,Fconv,Fcorr,Femiss):\n",
    "    CC = energy_consumption(CA,Fconv,Fcorr)\n",
    "    EC = carbon_emission(CC,Femiss)\n",
    "    ECO2 = co2_Emission(EC)\n",
    "    return ECO2"
   ]
  },
  {
   "cell_type": "code",
   "execution_count": null,
   "id": "ebc68e08",
   "metadata": {},
   "outputs": [],
   "source": []
  }
 ],
 "metadata": {
  "kernelspec": {
   "display_name": "Python 3 (ipykernel)",
   "language": "python",
   "name": "python3"
  },
  "language_info": {
   "codemirror_mode": {
    "name": "ipython",
    "version": 3
   },
   "file_extension": ".py",
   "mimetype": "text/x-python",
   "name": "python",
   "nbconvert_exporter": "python",
   "pygments_lexer": "ipython3",
   "version": "3.9.7"
  }
 },
 "nbformat": 4,
 "nbformat_minor": 5
}
